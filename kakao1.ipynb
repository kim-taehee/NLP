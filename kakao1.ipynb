{
 "cells": [
  {
   "cell_type": "code",
   "execution_count": 8,
   "metadata": {},
   "outputs": [
    {
     "ename": "ModuleNotFoundError",
     "evalue": "No module named 'pandas'",
     "output_type": "error",
     "traceback": [
      "\u001b[1;31m---------------------------------------------------------------------------\u001b[0m",
      "\u001b[1;31mModuleNotFoundError\u001b[0m                       Traceback (most recent call last)",
      "\u001b[1;32m<ipython-input-8-3cfe2cf02458>\u001b[0m in \u001b[0;36m<module>\u001b[1;34m\u001b[0m\n\u001b[0;32m      1\u001b[0m \u001b[1;31m# python3, jupyternotebook, windows\u001b[0m\u001b[1;33m\u001b[0m\u001b[1;33m\u001b[0m\u001b[0m\n\u001b[0;32m      2\u001b[0m \u001b[1;32mimport\u001b[0m \u001b[0mnumpy\u001b[0m \u001b[1;32mas\u001b[0m \u001b[0mnp\u001b[0m\u001b[1;33m\u001b[0m\u001b[0m\n\u001b[1;32m----> 3\u001b[1;33m \u001b[1;32mimport\u001b[0m \u001b[0mpandas\u001b[0m \u001b[1;32mas\u001b[0m \u001b[0mpd\u001b[0m\u001b[1;33m\u001b[0m\u001b[0m\n\u001b[0m\u001b[0;32m      4\u001b[0m \u001b[1;32mimport\u001b[0m \u001b[0mseaborn\u001b[0m \u001b[1;32mas\u001b[0m \u001b[0msns\u001b[0m\u001b[1;33m\u001b[0m\u001b[0m\n\u001b[0;32m      5\u001b[0m \u001b[1;32mimport\u001b[0m \u001b[0mmatplotlib\u001b[0m\u001b[1;33m.\u001b[0m\u001b[0mpyplot\u001b[0m \u001b[1;32mas\u001b[0m \u001b[0mplt\u001b[0m\u001b[1;33m\u001b[0m\u001b[0m\n",
      "\u001b[1;31mModuleNotFoundError\u001b[0m: No module named 'pandas'"
     ]
    }
   ],
   "source": [
    "# python3, jupyternotebook, windows\n",
    "import numpy as np\n",
    "import pandas as pd \n",
    "import seaborn as sns\n",
    "import matplotlib.pyplot as plt\n",
    "%matplotlib inline\n",
    "from sklearn.preprocessing import OneHotEncoder\n"
   ]
  },
  {
   "cell_type": "code",
   "execution_count": 549,
   "metadata": {},
   "outputs": [],
   "source": [
    "main = pd.read_csv(\"C:/Users/taehee/Desktop/kakao/kakao1.csv\")"
   ]
  },
  {
   "cell_type": "markdown",
   "metadata": {},
   "source": [
    "# 1. 데이터 탐색"
   ]
  },
  {
   "cell_type": "code",
   "execution_count": 550,
   "metadata": {},
   "outputs": [
    {
     "data": {
      "text/html": [
       "<div>\n",
       "<style>\n",
       "    .dataframe thead tr:only-child th {\n",
       "        text-align: right;\n",
       "    }\n",
       "\n",
       "    .dataframe thead th {\n",
       "        text-align: left;\n",
       "    }\n",
       "\n",
       "    .dataframe tbody tr th {\n",
       "        vertical-align: top;\n",
       "    }\n",
       "</style>\n",
       "<table border=\"1\" class=\"dataframe\">\n",
       "  <thead>\n",
       "    <tr style=\"text-align: right;\">\n",
       "      <th></th>\n",
       "      <th>age</th>\n",
       "      <th>workclass</th>\n",
       "      <th>fnlwgt</th>\n",
       "      <th>education</th>\n",
       "      <th>education.num</th>\n",
       "      <th>marital.status</th>\n",
       "      <th>occupation</th>\n",
       "      <th>relationship</th>\n",
       "      <th>race</th>\n",
       "      <th>sex</th>\n",
       "      <th>capital.gain</th>\n",
       "      <th>capital.loss</th>\n",
       "      <th>hours.per.week</th>\n",
       "      <th>native.country</th>\n",
       "      <th>income</th>\n",
       "    </tr>\n",
       "  </thead>\n",
       "  <tbody>\n",
       "    <tr>\n",
       "      <th>0</th>\n",
       "      <td>90</td>\n",
       "      <td>?</td>\n",
       "      <td>77053</td>\n",
       "      <td>HS-grad</td>\n",
       "      <td>9</td>\n",
       "      <td>Widowed</td>\n",
       "      <td>?</td>\n",
       "      <td>Not-in-family</td>\n",
       "      <td>White</td>\n",
       "      <td>Female</td>\n",
       "      <td>0</td>\n",
       "      <td>4356</td>\n",
       "      <td>40</td>\n",
       "      <td>United-States</td>\n",
       "      <td>&lt;=50K</td>\n",
       "    </tr>\n",
       "    <tr>\n",
       "      <th>1</th>\n",
       "      <td>82</td>\n",
       "      <td>Private</td>\n",
       "      <td>132870</td>\n",
       "      <td>HS-grad</td>\n",
       "      <td>9</td>\n",
       "      <td>Widowed</td>\n",
       "      <td>Exec-managerial</td>\n",
       "      <td>Not-in-family</td>\n",
       "      <td>White</td>\n",
       "      <td>Female</td>\n",
       "      <td>0</td>\n",
       "      <td>4356</td>\n",
       "      <td>18</td>\n",
       "      <td>United-States</td>\n",
       "      <td>&lt;=50K</td>\n",
       "    </tr>\n",
       "    <tr>\n",
       "      <th>2</th>\n",
       "      <td>66</td>\n",
       "      <td>?</td>\n",
       "      <td>186061</td>\n",
       "      <td>Some-college</td>\n",
       "      <td>10</td>\n",
       "      <td>Widowed</td>\n",
       "      <td>?</td>\n",
       "      <td>Unmarried</td>\n",
       "      <td>Black</td>\n",
       "      <td>Female</td>\n",
       "      <td>0</td>\n",
       "      <td>4356</td>\n",
       "      <td>40</td>\n",
       "      <td>United-States</td>\n",
       "      <td>&lt;=50K</td>\n",
       "    </tr>\n",
       "    <tr>\n",
       "      <th>3</th>\n",
       "      <td>54</td>\n",
       "      <td>Private</td>\n",
       "      <td>140359</td>\n",
       "      <td>7th-8th</td>\n",
       "      <td>4</td>\n",
       "      <td>Divorced</td>\n",
       "      <td>Machine-op-inspct</td>\n",
       "      <td>Unmarried</td>\n",
       "      <td>White</td>\n",
       "      <td>Female</td>\n",
       "      <td>0</td>\n",
       "      <td>3900</td>\n",
       "      <td>40</td>\n",
       "      <td>United-States</td>\n",
       "      <td>&lt;=50K</td>\n",
       "    </tr>\n",
       "    <tr>\n",
       "      <th>4</th>\n",
       "      <td>41</td>\n",
       "      <td>Private</td>\n",
       "      <td>264663</td>\n",
       "      <td>Some-college</td>\n",
       "      <td>10</td>\n",
       "      <td>Separated</td>\n",
       "      <td>Prof-specialty</td>\n",
       "      <td>Own-child</td>\n",
       "      <td>White</td>\n",
       "      <td>Female</td>\n",
       "      <td>0</td>\n",
       "      <td>3900</td>\n",
       "      <td>40</td>\n",
       "      <td>United-States</td>\n",
       "      <td>&lt;=50K</td>\n",
       "    </tr>\n",
       "  </tbody>\n",
       "</table>\n",
       "</div>"
      ],
      "text/plain": [
       "   age workclass  fnlwgt     education  education.num marital.status  \\\n",
       "0   90         ?   77053       HS-grad              9        Widowed   \n",
       "1   82   Private  132870       HS-grad              9        Widowed   \n",
       "2   66         ?  186061  Some-college             10        Widowed   \n",
       "3   54   Private  140359       7th-8th              4       Divorced   \n",
       "4   41   Private  264663  Some-college             10      Separated   \n",
       "\n",
       "          occupation   relationship   race     sex  capital.gain  \\\n",
       "0                  ?  Not-in-family  White  Female             0   \n",
       "1    Exec-managerial  Not-in-family  White  Female             0   \n",
       "2                  ?      Unmarried  Black  Female             0   \n",
       "3  Machine-op-inspct      Unmarried  White  Female             0   \n",
       "4     Prof-specialty      Own-child  White  Female             0   \n",
       "\n",
       "   capital.loss  hours.per.week native.country income  \n",
       "0          4356              40  United-States  <=50K  \n",
       "1          4356              18  United-States  <=50K  \n",
       "2          4356              40  United-States  <=50K  \n",
       "3          3900              40  United-States  <=50K  \n",
       "4          3900              40  United-States  <=50K  "
      ]
     },
     "execution_count": 550,
     "metadata": {},
     "output_type": "execute_result"
    }
   ],
   "source": [
    "main.head()"
   ]
  },
  {
   "cell_type": "code",
   "execution_count": 586,
   "metadata": {},
   "outputs": [
    {
     "name": "stdout",
     "output_type": "stream",
     "text": [
      "<class 'pandas.core.frame.DataFrame'>\n",
      "RangeIndex: 32561 entries, 0 to 32560\n",
      "Data columns (total 15 columns):\n",
      "age               32561 non-null int64\n",
      "workclass         32561 non-null object\n",
      "fnlwgt            32561 non-null int64\n",
      "education         32561 non-null object\n",
      "education.num     32561 non-null int64\n",
      "marital.status    32561 non-null object\n",
      "occupation        32561 non-null object\n",
      "relationship      32561 non-null object\n",
      "race              32561 non-null object\n",
      "sex               32561 non-null object\n",
      "capital.gain      32561 non-null int64\n",
      "capital.loss      32561 non-null int64\n",
      "hours.per.week    32561 non-null int64\n",
      "native.country    32561 non-null object\n",
      "income            32561 non-null object\n",
      "dtypes: int64(6), object(9)\n",
      "memory usage: 3.7+ MB\n"
     ]
    },
    {
     "data": {
      "text/plain": [
       "False"
      ]
     },
     "execution_count": 586,
     "metadata": {},
     "output_type": "execute_result"
    }
   ],
   "source": [
    "main.info()\n",
    "# 직업정보가 없는 경우 ? 로 나타난다\n",
    "main.isnull().any().any()\n",
    "# 다른 결측값 확인"
   ]
  },
  {
   "cell_type": "code",
   "execution_count": 587,
   "metadata": {},
   "outputs": [],
   "source": [
    "new_main=main\n",
    "new_main=new_main.drop_duplicates()\n",
    "# 데이터 중복을 제거 한다\n",
    "# 신용정보이기 때문에 모든 열이 중복이면 같은 사람이라고 판단\n",
    "\n",
    "# 모든 열이 중복된 행 24개 제거 됨"
   ]
  },
  {
   "cell_type": "code",
   "execution_count": 588,
   "metadata": {},
   "outputs": [],
   "source": [
    "new_main=new_main.replace('?','no-info')\n",
    "# 직업정보를 미기입한 사람들의 특성이 드러날 수도 있기 때문에 삭제 하지 않는다\n",
    "# 따라서 ?를 no-info로 바꾸어준다"
   ]
  },
  {
   "cell_type": "code",
   "execution_count": 589,
   "metadata": {
    "scrolled": true
   },
   "outputs": [
    {
     "data": {
      "text/plain": [
       "<function matplotlib.pyplot.show>"
      ]
     },
     "execution_count": 589,
     "metadata": {},
     "output_type": "execute_result"
    },
    {
     "data": {
      "image/png": "[encoded data removed]",
      "text/plain": [
       "<matplotlib.figure.Figure at 0x16268ab0e10>"
      ]
     },
     "metadata": {},
     "output_type": "display_data"
    }
   ],
   "source": [
    "# 수치형 데이터 탐색\n",
    "new_main.hist(bins=50,figsize=(20,15))\n",
    "plt.show\n",
    "# 연령대는 성인이상에서 정규분포를 보임\n",
    "# capital.gain,loss,hour.per.week는  x range가 크고 도수가 많아서\n",
    "#  적당한 도수를 가지는 서열 척도로 변형할 필요가 있음\n",
    "# 혹은 표준화 시켜줘야 함"
   ]
  },
  {
   "cell_type": "code",
   "execution_count": 590,
   "metadata": {},
   "outputs": [
    {
     "data": {
      "text/html": [
       "<div>\n",
       "<style>\n",
       "    .dataframe thead tr:only-child th {\n",
       "        text-align: right;\n",
       "    }\n",
       "\n",
       "    .dataframe thead th {\n",
       "        text-align: left;\n",
       "    }\n",
       "\n",
       "    .dataframe tbody tr th {\n",
       "        vertical-align: top;\n",
       "    }\n",
       "</style>\n",
       "<table border=\"1\" class=\"dataframe\">\n",
       "  <thead>\n",
       "    <tr style=\"text-align: right;\">\n",
       "      <th></th>\n",
       "      <th>age</th>\n",
       "      <th>fnlwgt</th>\n",
       "      <th>education.num</th>\n",
       "      <th>capital.gain</th>\n",
       "      <th>capital.loss</th>\n",
       "      <th>hours.per.week</th>\n",
       "    </tr>\n",
       "  </thead>\n",
       "  <tbody>\n",
       "    <tr>\n",
       "      <th>age</th>\n",
       "      <td>1.000000</td>\n",
       "      <td>-0.076447</td>\n",
       "      <td>0.036224</td>\n",
       "      <td>0.077676</td>\n",
       "      <td>0.057745</td>\n",
       "      <td>0.068515</td>\n",
       "    </tr>\n",
       "    <tr>\n",
       "      <th>fnlwgt</th>\n",
       "      <td>-0.076447</td>\n",
       "      <td>1.000000</td>\n",
       "      <td>-0.043388</td>\n",
       "      <td>0.000429</td>\n",
       "      <td>-0.010260</td>\n",
       "      <td>-0.018898</td>\n",
       "    </tr>\n",
       "    <tr>\n",
       "      <th>education.num</th>\n",
       "      <td>0.036224</td>\n",
       "      <td>-0.043388</td>\n",
       "      <td>1.000000</td>\n",
       "      <td>0.122664</td>\n",
       "      <td>0.079892</td>\n",
       "      <td>0.148422</td>\n",
       "    </tr>\n",
       "    <tr>\n",
       "      <th>capital.gain</th>\n",
       "      <td>0.077676</td>\n",
       "      <td>0.000429</td>\n",
       "      <td>0.122664</td>\n",
       "      <td>1.000000</td>\n",
       "      <td>-0.031639</td>\n",
       "      <td>0.078408</td>\n",
       "    </tr>\n",
       "    <tr>\n",
       "      <th>capital.loss</th>\n",
       "      <td>0.057745</td>\n",
       "      <td>-0.010260</td>\n",
       "      <td>0.079892</td>\n",
       "      <td>-0.031639</td>\n",
       "      <td>1.000000</td>\n",
       "      <td>0.054229</td>\n",
       "    </tr>\n",
       "    <tr>\n",
       "      <th>hours.per.week</th>\n",
       "      <td>0.068515</td>\n",
       "      <td>-0.018898</td>\n",
       "      <td>0.148422</td>\n",
       "      <td>0.078408</td>\n",
       "      <td>0.054229</td>\n",
       "      <td>1.000000</td>\n",
       "    </tr>\n",
       "  </tbody>\n",
       "</table>\n",
       "</div>"
      ],
      "text/plain": [
       "                     age    fnlwgt  education.num  capital.gain  capital.loss  \\\n",
       "age             1.000000 -0.076447       0.036224      0.077676      0.057745   \n",
       "fnlwgt         -0.076447  1.000000      -0.043388      0.000429     -0.010260   \n",
       "education.num   0.036224 -0.043388       1.000000      0.122664      0.079892   \n",
       "capital.gain    0.077676  0.000429       0.122664      1.000000     -0.031639   \n",
       "capital.loss    0.057745 -0.010260       0.079892     -0.031639      1.000000   \n",
       "hours.per.week  0.068515 -0.018898       0.148422      0.078408      0.054229   \n",
       "\n",
       "                hours.per.week  \n",
       "age                   0.068515  \n",
       "fnlwgt               -0.018898  \n",
       "education.num         0.148422  \n",
       "capital.gain          0.078408  \n",
       "capital.loss          0.054229  \n",
       "hours.per.week        1.000000  "
      ]
     },
     "execution_count": 590,
     "metadata": {},
     "output_type": "execute_result"
    }
   ],
   "source": [
    "corr_new_main=new_main.corr()\n",
    "corr_new_main\n",
    "# 연속형 데이터 중에 큰 상관관계 (0.7>)을 보이는 경우는 없으니, 모두 사용"
   ]
  },
  {
   "cell_type": "code",
   "execution_count": 591,
   "metadata": {},
   "outputs": [
    {
     "data": {
      "text/plain": [
       "<=50K    24698\n",
       ">50K      7839\n",
       "Name: income, dtype: int64"
      ]
     },
     "execution_count": 591,
     "metadata": {},
     "output_type": "execute_result"
    }
   ],
   "source": [
    "new_main['income'].value_counts()"
   ]
  },
  {
   "cell_type": "code",
   "execution_count": 622,
   "metadata": {},
   "outputs": [],
   "source": [
    "data=new_main[['age','fnlwgt','capital.gain','capital.loss','hours.per.week']]"
   ]
  },
  {
   "cell_type": "code",
   "execution_count": 623,
   "metadata": {},
   "outputs": [
    {
     "name": "stdout",
     "output_type": "stream",
     "text": [
      "<class 'pandas.core.frame.DataFrame'>\n",
      "Int64Index: 32537 entries, 0 to 32560\n",
      "Data columns (total 5 columns):\n",
      "age               32537 non-null int64\n",
      "fnlwgt            32537 non-null int64\n",
      "capital.gain      32537 non-null int64\n",
      "capital.loss      32537 non-null int64\n",
      "hours.per.week    32537 non-null int64\n",
      "dtypes: int64(5)\n",
      "memory usage: 1.5 MB\n"
     ]
    }
   ],
   "source": [
    "data.info()"
   ]
  },
  {
   "cell_type": "markdown",
   "metadata": {},
   "source": [
    "# 2. 데이터 전처리"
   ]
  },
  {
   "cell_type": "code",
   "execution_count": 624,
   "metadata": {},
   "outputs": [
    {
     "data": {
      "text/plain": [
       "Private             22673\n",
       "Self-emp-not-inc     2540\n",
       "Local-gov            2093\n",
       "no-info              1836\n",
       "State-gov            1298\n",
       "Self-emp-inc         1116\n",
       "Federal-gov           960\n",
       "Without-pay            14\n",
       "Never-worked            7\n",
       "Name: workclass, dtype: int64"
      ]
     },
     "execution_count": 624,
     "metadata": {},
     "output_type": "execute_result"
    }
   ],
   "source": [
    "# 범주형 자료에 대한 분포 확인\n",
    "new_main['workclass'].value_counts()\n",
    "# no-info는 without-pay와 never-worked 의 무소득자일 수 있으므로  나중에 함께 그루핑 시도"
   ]
  },
  {
   "cell_type": "code",
   "execution_count": 625,
   "metadata": {},
   "outputs": [],
   "source": [
    "df1=pd.get_dummies(new_main['workclass'], prefix='workclass')"
   ]
  },
  {
   "cell_type": "code",
   "execution_count": 626,
   "metadata": {},
   "outputs": [
    {
     "name": "stdout",
     "output_type": "stream",
     "text": [
      "<class 'pandas.core.frame.DataFrame'>\n",
      "Int64Index: 32537 entries, 0 to 32560\n",
      "Data columns (total 5 columns):\n",
      "age               32537 non-null int64\n",
      "fnlwgt            32537 non-null int64\n",
      "capital.gain      32537 non-null int64\n",
      "capital.loss      32537 non-null int64\n",
      "hours.per.week    32537 non-null int64\n",
      "dtypes: int64(5)\n",
      "memory usage: 1.5 MB\n"
     ]
    }
   ],
   "source": [
    "data.info()"
   ]
  },
  {
   "cell_type": "code",
   "execution_count": 627,
   "metadata": {},
   "outputs": [],
   "source": [
    "data=pd.concat([data,df1],axis=1)"
   ]
  },
  {
   "cell_type": "code",
   "execution_count": 628,
   "metadata": {},
   "outputs": [
    {
     "name": "stdout",
     "output_type": "stream",
     "text": [
      "<class 'pandas.core.frame.DataFrame'>\n",
      "Int64Index: 32537 entries, 0 to 32560\n",
      "Data columns (total 14 columns):\n",
      "age                           32537 non-null int64\n",
      "fnlwgt                        32537 non-null int64\n",
      "capital.gain                  32537 non-null int64\n",
      "capital.loss                  32537 non-null int64\n",
      "hours.per.week                32537 non-null int64\n",
      "workclass_Federal-gov         32537 non-null uint8\n",
      "workclass_Local-gov           32537 non-null uint8\n",
      "workclass_Never-worked        32537 non-null uint8\n",
      "workclass_Private             32537 non-null uint8\n",
      "workclass_Self-emp-inc        32537 non-null uint8\n",
      "workclass_Self-emp-not-inc    32537 non-null uint8\n",
      "workclass_State-gov           32537 non-null uint8\n",
      "workclass_Without-pay         32537 non-null uint8\n",
      "workclass_no-info             32537 non-null uint8\n",
      "dtypes: int64(5), uint8(9)\n",
      "memory usage: 1.8 MB\n"
     ]
    }
   ],
   "source": [
    "data.info()"
   ]
  },
  {
   "cell_type": "markdown",
   "metadata": {},
   "source": [
    "## education 과 education.num 전처리 -----------------------"
   ]
  },
  {
   "cell_type": "code",
   "execution_count": 629,
   "metadata": {},
   "outputs": [
    {
     "data": {
      "text/plain": [
       "HS-grad         10494\n",
       "Some-college     7282\n",
       "Bachelors        5353\n",
       "Masters          1722\n",
       "Assoc-voc        1382\n",
       "11th             1175\n",
       "Assoc-acdm       1067\n",
       "10th              933\n",
       "7th-8th           645\n",
       "Prof-school       576\n",
       "9th               514\n",
       "12th              433\n",
       "Doctorate         413\n",
       "5th-6th           332\n",
       "1st-4th           166\n",
       "Preschool          50\n",
       "Name: education, dtype: int64"
      ]
     },
     "execution_count": 629,
     "metadata": {},
     "output_type": "execute_result"
    }
   ],
   "source": [
    "new_main['education'].value_counts()\n",
    "# 범주형자료가 매우 많아서 적절한 기준으로 통합이 필요함\n",
    "# education.num은 사실상 같음"
   ]
  },
  {
   "cell_type": "code",
   "execution_count": 630,
   "metadata": {},
   "outputs": [],
   "source": [
    "edu_dic={\n",
    "        'Preschool':'UnderHS',\n",
    "        '1st-4th':'UnderHS',\n",
    "        '5th-6th':'UnderHS',\n",
    "        '7th-8th':'UnderHS',\n",
    "        '9th':'UnderHS',\n",
    "        '11th':'UnderHS',    \n",
    "        '10th':'UnderHS',\n",
    "        '12th':'UnderHS',\n",
    "        'HS-grad':'High-School',\n",
    "        'Assoc-acdm':'Assoc',\n",
    "        'Assoc-voc':'Assoc', \n",
    "        'Some-college':'College', #2년제\n",
    "        'Prof-school':'College',\n",
    "        'Bachelors':'Bachelors',\n",
    "        'Masters':'Masters',\n",
    "        'Doctorate':'Doctorate'\n",
    "        }"
   ]
  },
  {
   "cell_type": "code",
   "execution_count": 631,
   "metadata": {},
   "outputs": [
    {
     "data": {
      "text/plain": [
       "High-School    10494\n",
       "College         7858\n",
       "Bachelors       5353\n",
       "UnderHS         4248\n",
       "Assoc           2449\n",
       "Masters         1722\n",
       "Doctorate        413\n",
       "Name: c_education, dtype: int64"
      ]
     },
     "execution_count": 631,
     "metadata": {},
     "output_type": "execute_result"
    }
   ],
   "source": [
    "new_main['c_education']=new_main['education'].apply(lambda x: edu_dic[x])\n",
    "new_main['c_education'].value_counts()\n",
    "# 7개의 범주로 정리"
   ]
  },
  {
   "cell_type": "code",
   "execution_count": 632,
   "metadata": {},
   "outputs": [],
   "source": [
    "df2=pd.get_dummies(new_main['c_education'], prefix='c_education')"
   ]
  },
  {
   "cell_type": "code",
   "execution_count": 634,
   "metadata": {},
   "outputs": [],
   "source": [
    "data=pd.concat([data,df2],axis=1)"
   ]
  },
  {
   "cell_type": "markdown",
   "metadata": {},
   "source": [
    "## marital.status 전처리 ----------------------------------------"
   ]
  },
  {
   "cell_type": "code",
   "execution_count": 635,
   "metadata": {},
   "outputs": [
    {
     "data": {
      "text/plain": [
       "Married-civ-spouse       14970\n",
       "Never-married            10667\n",
       "Divorced                  4441\n",
       "Separated                 1025\n",
       "Widowed                    993\n",
       "Married-spouse-absent      418\n",
       "Married-AF-spouse           23\n",
       "Name: marital.status, dtype: int64"
      ]
     },
     "execution_count": 635,
     "metadata": {},
     "output_type": "execute_result"
    }
   ],
   "source": [
    "new_main['marital.status'].value_counts()\n",
    "# 정확히 데이터를 이해하여 범주를 합칠 필요가 있음"
   ]
  },
  {
   "cell_type": "code",
   "execution_count": 636,
   "metadata": {},
   "outputs": [],
   "source": [
    "marry_dic={\n",
    "    'Married-civ-spouse':'Married',\n",
    "    'Married-AF-spouse':'Married',\n",
    "    'Never-married':'Never_Married',\n",
    "    'Divorced':'Single',\n",
    "    'Separated':'Single',\n",
    "    'Married-spouse-absent':'Single',\n",
    "    'Widowed':'Single'\n",
    "}"
   ]
  },
  {
   "cell_type": "code",
   "execution_count": 637,
   "metadata": {},
   "outputs": [
    {
     "data": {
      "text/plain": [
       "Married          14993\n",
       "Never_Married    10667\n",
       "Single            6877\n",
       "Name: c_marry, dtype: int64"
      ]
     },
     "execution_count": 637,
     "metadata": {},
     "output_type": "execute_result"
    }
   ],
   "source": [
    "new_main['c_marry']=new_main['marital.status'].apply(lambda x: marry_dic[x])\n",
    "new_main['c_marry'].value_counts()"
   ]
  },
  {
   "cell_type": "code",
   "execution_count": 638,
   "metadata": {},
   "outputs": [],
   "source": [
    "df2=pd.get_dummies(new_main['c_marry'], prefix='c_marry')\n",
    "data=pd.concat([data,df2],axis=1)"
   ]
  },
  {
   "cell_type": "markdown",
   "metadata": {},
   "source": [
    "## occupation 전처리 ----------------------------------------"
   ]
  },
  {
   "cell_type": "code",
   "execution_count": 417,
   "metadata": {
    "scrolled": true
   },
   "outputs": [
    {
     "data": {
      "text/plain": [
       "Prof-specialty       4136\n",
       "Craft-repair         4094\n",
       "Exec-managerial      4065\n",
       "Adm-clerical         3768\n",
       "Sales                3650\n",
       "Other-service        3291\n",
       "Machine-op-inspct    2000\n",
       "no-info              1843\n",
       "Transport-moving     1597\n",
       "Handlers-cleaners    1369\n",
       "Farming-fishing       992\n",
       "Tech-support          927\n",
       "Protective-serv       649\n",
       "Priv-house-serv       147\n",
       "Armed-Forces            9\n",
       "Name: occupation, dtype: int64"
      ]
     },
     "execution_count": 417,
     "metadata": {},
     "output_type": "execute_result"
    }
   ],
   "source": [
    "new_main['occupation'].value_counts()\n",
    "# 직업군은 그대로 보존"
   ]
  },
  {
   "cell_type": "code",
   "execution_count": 639,
   "metadata": {},
   "outputs": [],
   "source": [
    "df2=pd.get_dummies(new_main['occupation'], prefix='occupation')\n",
    "data=pd.concat([data,df2],axis=1)"
   ]
  },
  {
   "cell_type": "markdown",
   "metadata": {},
   "source": [
    "## relationship 전처리 ----------------------------------------"
   ]
  },
  {
   "cell_type": "code",
   "execution_count": 640,
   "metadata": {},
   "outputs": [
    {
     "data": {
      "text/plain": [
       "Husband           13187\n",
       "Not-in-family      8292\n",
       "Own-child          5064\n",
       "Unmarried          3445\n",
       "Wife               1568\n",
       "Other-relative      981\n",
       "Name: relationship, dtype: int64"
      ]
     },
     "execution_count": 640,
     "metadata": {},
     "output_type": "execute_result"
    }
   ],
   "source": [
    "new_main['relationship'].value_counts()"
   ]
  },
  {
   "cell_type": "code",
   "execution_count": 419,
   "metadata": {},
   "outputs": [
    {
     "data": {
      "text/html": [
       "<div>\n",
       "<style>\n",
       "    .dataframe thead tr:only-child th {\n",
       "        text-align: right;\n",
       "    }\n",
       "\n",
       "    .dataframe thead th {\n",
       "        text-align: left;\n",
       "    }\n",
       "\n",
       "    .dataframe tbody tr th {\n",
       "        vertical-align: top;\n",
       "    }\n",
       "</style>\n",
       "<table border=\"1\" class=\"dataframe\">\n",
       "  <thead>\n",
       "    <tr style=\"text-align: right;\">\n",
       "      <th></th>\n",
       "      <th>relationship</th>\n",
       "      <th>sex</th>\n",
       "    </tr>\n",
       "  </thead>\n",
       "  <tbody>\n",
       "    <tr>\n",
       "      <th>32556</th>\n",
       "      <td>Not-in-family</td>\n",
       "      <td>Male</td>\n",
       "    </tr>\n",
       "    <tr>\n",
       "      <th>32557</th>\n",
       "      <td>Wife</td>\n",
       "      <td>Female</td>\n",
       "    </tr>\n",
       "    <tr>\n",
       "      <th>32558</th>\n",
       "      <td>Husband</td>\n",
       "      <td>Male</td>\n",
       "    </tr>\n",
       "    <tr>\n",
       "      <th>32559</th>\n",
       "      <td>Unmarried</td>\n",
       "      <td>Female</td>\n",
       "    </tr>\n",
       "    <tr>\n",
       "      <th>32560</th>\n",
       "      <td>Own-child</td>\n",
       "      <td>Male</td>\n",
       "    </tr>\n",
       "  </tbody>\n",
       "</table>\n",
       "</div>"
      ],
      "text/plain": [
       "        relationship     sex\n",
       "32556  Not-in-family    Male\n",
       "32557           Wife  Female\n",
       "32558        Husband    Male\n",
       "32559      Unmarried  Female\n",
       "32560      Own-child    Male"
      ]
     },
     "execution_count": 419,
     "metadata": {},
     "output_type": "execute_result"
    }
   ],
   "source": [
    "new_main.loc[:,('relationship','sex')].tail()\n",
    "# 남편, 아내는 스스로를 나타내고, 다른 것들은 가족관계를 나타냄\n",
    "# 다른 변수들로 재조정 어려워서 그대로 씀"
   ]
  },
  {
   "cell_type": "code",
   "execution_count": 641,
   "metadata": {},
   "outputs": [],
   "source": [
    "df2=pd.get_dummies(new_main['relationship'], prefix='relationship')\n",
    "data=pd.concat([data,df2],axis=1)"
   ]
  },
  {
   "cell_type": "markdown",
   "metadata": {},
   "source": [
    "## race, sex 확인 -------------------------------"
   ]
  },
  {
   "cell_type": "code",
   "execution_count": 420,
   "metadata": {},
   "outputs": [
    {
     "data": {
      "text/plain": [
       "White                 27795\n",
       "Black                  3122\n",
       "Asian-Pac-Islander     1038\n",
       "Amer-Indian-Eskimo      311\n",
       "Other                   271\n",
       "Name: race, dtype: int64"
      ]
     },
     "execution_count": 420,
     "metadata": {},
     "output_type": "execute_result"
    }
   ],
   "source": [
    "new_main['race'].value_counts()\n",
    "# 이대로 사용가능"
   ]
  },
  {
   "cell_type": "code",
   "execution_count": 642,
   "metadata": {},
   "outputs": [],
   "source": [
    "df2=pd.get_dummies(new_main['race'], prefix='race')\n",
    "data=pd.concat([data,df2],axis=1)"
   ]
  },
  {
   "cell_type": "code",
   "execution_count": 643,
   "metadata": {},
   "outputs": [
    {
     "data": {
      "text/plain": [
       "Male      21775\n",
       "Female    10762\n",
       "Name: sex, dtype: int64"
      ]
     },
     "execution_count": 643,
     "metadata": {},
     "output_type": "execute_result"
    }
   ],
   "source": [
    "new_main['sex'].value_counts()"
   ]
  },
  {
   "cell_type": "code",
   "execution_count": 644,
   "metadata": {},
   "outputs": [],
   "source": [
    "df2=pd.get_dummies(new_main['sex'], prefix='sex')\n",
    "data=pd.concat([data,df2],axis=1)"
   ]
  },
  {
   "cell_type": "markdown",
   "metadata": {},
   "source": [
    "## capital.gain , capital.loss 전처리 ------------------------"
   ]
  },
  {
   "cell_type": "code",
   "execution_count": 645,
   "metadata": {},
   "outputs": [
    {
     "data": {
      "text/plain": [
       "0        29825\n",
       "15024      347\n",
       "7688       284\n",
       "7298       246\n",
       "99999      159\n",
       "5178        97\n",
       "3103        97\n",
       "4386        70\n",
       "5013        69\n",
       "8614        55\n",
       "3325        53\n",
       "2174        48\n",
       "10520       43\n",
       "4064        42\n",
       "4650        41\n",
       "14084       41\n",
       "20051       37\n",
       "3137        37\n",
       "27828       34\n",
       "594         34\n",
       "3908        32\n",
       "2829        31\n",
       "13550       27\n",
       "6849        27\n",
       "14344       26\n",
       "1055        25\n",
       "2885        24\n",
       "3411        24\n",
       "4787        23\n",
       "2176        23\n",
       "         ...  \n",
       "9562         4\n",
       "1086         4\n",
       "25124        4\n",
       "1424         3\n",
       "2961         3\n",
       "7896         3\n",
       "4687         3\n",
       "2936         3\n",
       "1173         3\n",
       "5721         3\n",
       "2009         3\n",
       "6360         3\n",
       "41310        2\n",
       "6723         2\n",
       "3456         2\n",
       "2993         2\n",
       "401          2\n",
       "11678        2\n",
       "2062         2\n",
       "18481        2\n",
       "7978         1\n",
       "1639         1\n",
       "2538         1\n",
       "2387         1\n",
       "5060         1\n",
       "4931         1\n",
       "1455         1\n",
       "6097         1\n",
       "22040        1\n",
       "1111         1\n",
       "Name: capital.gain, Length: 119, dtype: int64"
      ]
     },
     "execution_count": 645,
     "metadata": {},
     "output_type": "execute_result"
    }
   ],
   "source": [
    "new_main['capital.gain'].value_counts()\n",
    "# 연속형으로사용할 수도 있고, 범주형으로 사용할 수도 있음\n",
    "#  테스팅해보며 예측율을 높여주는 방향으로 사용, 아마 범주형이 좋을듯 하다"
   ]
  },
  {
   "cell_type": "code",
   "execution_count": 646,
   "metadata": {},
   "outputs": [
    {
     "data": {
      "text/plain": [
       "count    32537.000000\n",
       "mean      1078.443741\n",
       "std       7387.957424\n",
       "min          0.000000\n",
       "25%          0.000000\n",
       "50%          0.000000\n",
       "75%          0.000000\n",
       "max      99999.000000\n",
       "Name: capital.gain, dtype: float64"
      ]
     },
     "execution_count": 646,
     "metadata": {},
     "output_type": "execute_result"
    }
   ],
   "source": [
    "new_main['capital.gain'].describe()\n",
    "# 범위가 매우크고 매우 치우쳐져 있음\n",
    "# 후처리할때 정규화하여 성능이 올라가는지 확인 할 것"
   ]
  },
  {
   "cell_type": "code",
   "execution_count": 647,
   "metadata": {},
   "outputs": [],
   "source": [
    "c_gain=new_main['capital.gain'].values.reshape(-1,1)"
   ]
  },
  {
   "cell_type": "code",
   "execution_count": 648,
   "metadata": {},
   "outputs": [],
   "source": [
    "from sklearn.preprocessing import StandardScaler, RobustScaler\n",
    "\n",
    "c_gain_RobustScaler = RobustScaler().fit_transform(c_gain)"
   ]
  },
  {
   "cell_type": "code",
   "execution_count": 649,
   "metadata": {},
   "outputs": [
    {
     "data": {
      "text/plain": [
       "(array([3.1767e+04, 5.1700e+02, 8.7000e+01, 5.0000e+00, 2.0000e+00,\n",
       "        0.0000e+00, 0.0000e+00, 0.0000e+00, 0.0000e+00, 1.5900e+02]),\n",
       " array([    0. ,  9999.9, 19999.8, 29999.7, 39999.6, 49999.5, 59999.4,\n",
       "        69999.3, 79999.2, 89999.1, 99999. ]),\n",
       " <a list of 10 Patch objects>)"
      ]
     },
     "execution_count": 649,
     "metadata": {},
     "output_type": "execute_result"
    },
    {
     "data": {
      "image/png": "[encoded data removed]",
      "text/plain": [
       "<matplotlib.figure.Figure at 0x16269400978>"
      ]
     },
     "metadata": {},
     "output_type": "display_data"
    }
   ],
   "source": [
    "plt.hist(c_gain_RobustScaler)\n",
    "# 표준화 시켜도 여전히 0과잉을 보임"
   ]
  },
  {
   "cell_type": "code",
   "execution_count": 651,
   "metadata": {
    "scrolled": true
   },
   "outputs": [
    {
     "data": {
      "text/html": [
       "<div>\n",
       "<style>\n",
       "    .dataframe thead tr:only-child th {\n",
       "        text-align: right;\n",
       "    }\n",
       "\n",
       "    .dataframe thead th {\n",
       "        text-align: left;\n",
       "    }\n",
       "\n",
       "    .dataframe tbody tr th {\n",
       "        vertical-align: top;\n",
       "    }\n",
       "</style>\n",
       "<table border=\"1\" class=\"dataframe\">\n",
       "  <thead>\n",
       "    <tr style=\"text-align: right;\">\n",
       "      <th></th>\n",
       "      <th>age</th>\n",
       "      <th>fnlwgt</th>\n",
       "      <th>capital.gain</th>\n",
       "      <th>capital.loss</th>\n",
       "      <th>hours.per.week</th>\n",
       "      <th>workclass_Federal-gov</th>\n",
       "      <th>workclass_Local-gov</th>\n",
       "      <th>workclass_Never-worked</th>\n",
       "      <th>workclass_Private</th>\n",
       "      <th>workclass_Self-emp-inc</th>\n",
       "      <th>...</th>\n",
       "      <th>relationship_Unmarried</th>\n",
       "      <th>relationship_Wife</th>\n",
       "      <th>race_Amer-Indian-Eskimo</th>\n",
       "      <th>race_Asian-Pac-Islander</th>\n",
       "      <th>race_Black</th>\n",
       "      <th>race_Other</th>\n",
       "      <th>race_White</th>\n",
       "      <th>sex_Female</th>\n",
       "      <th>sex_Male</th>\n",
       "      <th>std_c_gain</th>\n",
       "    </tr>\n",
       "  </thead>\n",
       "  <tbody>\n",
       "    <tr>\n",
       "      <th>0</th>\n",
       "      <td>90</td>\n",
       "      <td>77053</td>\n",
       "      <td>0</td>\n",
       "      <td>4356</td>\n",
       "      <td>40</td>\n",
       "      <td>0</td>\n",
       "      <td>0</td>\n",
       "      <td>0</td>\n",
       "      <td>0</td>\n",
       "      <td>0</td>\n",
       "      <td>...</td>\n",
       "      <td>0</td>\n",
       "      <td>0</td>\n",
       "      <td>0</td>\n",
       "      <td>0</td>\n",
       "      <td>0</td>\n",
       "      <td>0</td>\n",
       "      <td>1</td>\n",
       "      <td>1</td>\n",
       "      <td>0</td>\n",
       "      <td>0.0</td>\n",
       "    </tr>\n",
       "    <tr>\n",
       "      <th>1</th>\n",
       "      <td>82</td>\n",
       "      <td>132870</td>\n",
       "      <td>0</td>\n",
       "      <td>4356</td>\n",
       "      <td>18</td>\n",
       "      <td>0</td>\n",
       "      <td>0</td>\n",
       "      <td>0</td>\n",
       "      <td>1</td>\n",
       "      <td>0</td>\n",
       "      <td>...</td>\n",
       "      <td>0</td>\n",
       "      <td>0</td>\n",
       "      <td>0</td>\n",
       "      <td>0</td>\n",
       "      <td>0</td>\n",
       "      <td>0</td>\n",
       "      <td>1</td>\n",
       "      <td>1</td>\n",
       "      <td>0</td>\n",
       "      <td>0.0</td>\n",
       "    </tr>\n",
       "    <tr>\n",
       "      <th>2</th>\n",
       "      <td>66</td>\n",
       "      <td>186061</td>\n",
       "      <td>0</td>\n",
       "      <td>4356</td>\n",
       "      <td>40</td>\n",
       "      <td>0</td>\n",
       "      <td>0</td>\n",
       "      <td>0</td>\n",
       "      <td>0</td>\n",
       "      <td>0</td>\n",
       "      <td>...</td>\n",
       "      <td>1</td>\n",
       "      <td>0</td>\n",
       "      <td>0</td>\n",
       "      <td>0</td>\n",
       "      <td>1</td>\n",
       "      <td>0</td>\n",
       "      <td>0</td>\n",
       "      <td>1</td>\n",
       "      <td>0</td>\n",
       "      <td>0.0</td>\n",
       "    </tr>\n",
       "    <tr>\n",
       "      <th>3</th>\n",
       "      <td>54</td>\n",
       "      <td>140359</td>\n",
       "      <td>0</td>\n",
       "      <td>3900</td>\n",
       "      <td>40</td>\n",
       "      <td>0</td>\n",
       "      <td>0</td>\n",
       "      <td>0</td>\n",
       "      <td>1</td>\n",
       "      <td>0</td>\n",
       "      <td>...</td>\n",
       "      <td>1</td>\n",
       "      <td>0</td>\n",
       "      <td>0</td>\n",
       "      <td>0</td>\n",
       "      <td>0</td>\n",
       "      <td>0</td>\n",
       "      <td>1</td>\n",
       "      <td>1</td>\n",
       "      <td>0</td>\n",
       "      <td>0.0</td>\n",
       "    </tr>\n",
       "    <tr>\n",
       "      <th>4</th>\n",
       "      <td>41</td>\n",
       "      <td>264663</td>\n",
       "      <td>0</td>\n",
       "      <td>3900</td>\n",
       "      <td>40</td>\n",
       "      <td>0</td>\n",
       "      <td>0</td>\n",
       "      <td>0</td>\n",
       "      <td>1</td>\n",
       "      <td>0</td>\n",
       "      <td>...</td>\n",
       "      <td>0</td>\n",
       "      <td>0</td>\n",
       "      <td>0</td>\n",
       "      <td>0</td>\n",
       "      <td>0</td>\n",
       "      <td>0</td>\n",
       "      <td>1</td>\n",
       "      <td>1</td>\n",
       "      <td>0</td>\n",
       "      <td>0.0</td>\n",
       "    </tr>\n",
       "  </tbody>\n",
       "</table>\n",
       "<p>5 rows × 53 columns</p>\n",
       "</div>"
      ],
      "text/plain": [
       "   age  fnlwgt  capital.gain  capital.loss  hours.per.week  \\\n",
       "0   90   77053             0          4356              40   \n",
       "1   82  132870             0          4356              18   \n",
       "2   66  186061             0          4356              40   \n",
       "3   54  140359             0          3900              40   \n",
       "4   41  264663             0          3900              40   \n",
       "\n",
       "   workclass_Federal-gov  workclass_Local-gov  workclass_Never-worked  \\\n",
       "0                      0                    0                       0   \n",
       "1                      0                    0                       0   \n",
       "2                      0                    0                       0   \n",
       "3                      0                    0                       0   \n",
       "4                      0                    0                       0   \n",
       "\n",
       "   workclass_Private  workclass_Self-emp-inc     ...      \\\n",
       "0                  0                       0     ...       \n",
       "1                  1                       0     ...       \n",
       "2                  0                       0     ...       \n",
       "3                  1                       0     ...       \n",
       "4                  1                       0     ...       \n",
       "\n",
       "   relationship_Unmarried  relationship_Wife  race_Amer-Indian-Eskimo  \\\n",
       "0                       0                  0                        0   \n",
       "1                       0                  0                        0   \n",
       "2                       1                  0                        0   \n",
       "3                       1                  0                        0   \n",
       "4                       0                  0                        0   \n",
       "\n",
       "   race_Asian-Pac-Islander  race_Black  race_Other  race_White  sex_Female  \\\n",
       "0                        0           0           0           1           1   \n",
       "1                        0           0           0           1           1   \n",
       "2                        0           1           0           0           1   \n",
       "3                        0           0           0           1           1   \n",
       "4                        0           0           0           1           1   \n",
       "\n",
       "   sex_Male  std_c_gain  \n",
       "0         0         0.0  \n",
       "1         0         0.0  \n",
       "2         0         0.0  \n",
       "3         0         0.0  \n",
       "4         0         0.0  \n",
       "\n",
       "[5 rows x 53 columns]"
      ]
     },
     "execution_count": 651,
     "metadata": {},
     "output_type": "execute_result"
    }
   ],
   "source": [
    "data['std_c_gain']=c_gain_RobustScaler\n",
    "data.head()"
   ]
  },
  {
   "cell_type": "code",
   "execution_count": 652,
   "metadata": {
    "scrolled": true
   },
   "outputs": [
    {
     "data": {
      "text/plain": [
       "0       31018\n",
       "1902      202\n",
       "1977      168\n",
       "1887      159\n",
       "1848       51\n",
       "1485       51\n",
       "2415       49\n",
       "1602       47\n",
       "1740       42\n",
       "1590       40\n",
       "1876       39\n",
       "1672       34\n",
       "1564       25\n",
       "2258       25\n",
       "1669       24\n",
       "1741       24\n",
       "2001       24\n",
       "1980       23\n",
       "1719       22\n",
       "2002       21\n",
       "2051       21\n",
       "1408       21\n",
       "1579       20\n",
       "2377       20\n",
       "1721       18\n",
       "1504       18\n",
       "1974       18\n",
       "2339       17\n",
       "2179       15\n",
       "1628       15\n",
       "        ...  \n",
       "323         3\n",
       "4356        3\n",
       "2267        3\n",
       "3683        2\n",
       "1755        2\n",
       "2352        2\n",
       "1648        2\n",
       "1138        2\n",
       "810         2\n",
       "1735        2\n",
       "2238        2\n",
       "2754        2\n",
       "3004        2\n",
       "3900        2\n",
       "974         2\n",
       "2149        2\n",
       "1816        2\n",
       "3770        2\n",
       "2080        1\n",
       "2489        1\n",
       "2282        1\n",
       "2163        1\n",
       "155         1\n",
       "2467        1\n",
       "1844        1\n",
       "1411        1\n",
       "1539        1\n",
       "2472        1\n",
       "1944        1\n",
       "2201        1\n",
       "Name: capital.loss, Length: 92, dtype: int64"
      ]
     },
     "execution_count": 652,
     "metadata": {},
     "output_type": "execute_result"
    }
   ],
   "source": [
    "new_main['capital.loss'].value_counts()\n",
    "# 상동"
   ]
  },
  {
   "cell_type": "code",
   "execution_count": 653,
   "metadata": {},
   "outputs": [
    {
     "data": {
      "text/plain": [
       "(array([3.1029e+04, 1.7000e+01, 2.1000e+01, 4.6100e+02, 7.7900e+02,\n",
       "        2.0700e+02, 1.4000e+01, 0.0000e+00, 6.0000e+00, 3.0000e+00]),\n",
       " array([   0. ,  435.6,  871.2, 1306.8, 1742.4, 2178. , 2613.6, 3049.2,\n",
       "        3484.8, 3920.4, 4356. ]),\n",
       " <a list of 10 Patch objects>)"
      ]
     },
     "execution_count": 653,
     "metadata": {},
     "output_type": "execute_result"
    },
    {
     "data": {
      "image/png": "[encoded data removed]",
      "text/plain": [
       "<matplotlib.figure.Figure at 0x1626947a0f0>"
      ]
     },
     "metadata": {},
     "output_type": "display_data"
    }
   ],
   "source": [
    "c_loss=new_main['capital.loss'].values.reshape(-1,1)\n",
    "\n",
    "c_loss_RobustScaler = RobustScaler().fit_transform(c_loss)\n",
    "plt.hist(c_loss_RobustScaler)\n",
    "# 여전히 0과잉을 보임"
   ]
  },
  {
   "cell_type": "code",
   "execution_count": 654,
   "metadata": {},
   "outputs": [
    {
     "data": {
      "text/html": [
       "<div>\n",
       "<style>\n",
       "    .dataframe thead tr:only-child th {\n",
       "        text-align: right;\n",
       "    }\n",
       "\n",
       "    .dataframe thead th {\n",
       "        text-align: left;\n",
       "    }\n",
       "\n",
       "    .dataframe tbody tr th {\n",
       "        vertical-align: top;\n",
       "    }\n",
       "</style>\n",
       "<table border=\"1\" class=\"dataframe\">\n",
       "  <thead>\n",
       "    <tr style=\"text-align: right;\">\n",
       "      <th></th>\n",
       "      <th>age</th>\n",
       "      <th>fnlwgt</th>\n",
       "      <th>capital.gain</th>\n",
       "      <th>capital.loss</th>\n",
       "      <th>hours.per.week</th>\n",
       "      <th>workclass_Federal-gov</th>\n",
       "      <th>workclass_Local-gov</th>\n",
       "      <th>workclass_Never-worked</th>\n",
       "      <th>workclass_Private</th>\n",
       "      <th>workclass_Self-emp-inc</th>\n",
       "      <th>...</th>\n",
       "      <th>relationship_Wife</th>\n",
       "      <th>race_Amer-Indian-Eskimo</th>\n",
       "      <th>race_Asian-Pac-Islander</th>\n",
       "      <th>race_Black</th>\n",
       "      <th>race_Other</th>\n",
       "      <th>race_White</th>\n",
       "      <th>sex_Female</th>\n",
       "      <th>sex_Male</th>\n",
       "      <th>std_c_gain</th>\n",
       "      <th>std_c_loss</th>\n",
       "    </tr>\n",
       "  </thead>\n",
       "  <tbody>\n",
       "    <tr>\n",
       "      <th>0</th>\n",
       "      <td>90</td>\n",
       "      <td>77053</td>\n",
       "      <td>0</td>\n",
       "      <td>4356</td>\n",
       "      <td>40</td>\n",
       "      <td>0</td>\n",
       "      <td>0</td>\n",
       "      <td>0</td>\n",
       "      <td>0</td>\n",
       "      <td>0</td>\n",
       "      <td>...</td>\n",
       "      <td>0</td>\n",
       "      <td>0</td>\n",
       "      <td>0</td>\n",
       "      <td>0</td>\n",
       "      <td>0</td>\n",
       "      <td>1</td>\n",
       "      <td>1</td>\n",
       "      <td>0</td>\n",
       "      <td>0.0</td>\n",
       "      <td>4356.0</td>\n",
       "    </tr>\n",
       "    <tr>\n",
       "      <th>1</th>\n",
       "      <td>82</td>\n",
       "      <td>132870</td>\n",
       "      <td>0</td>\n",
       "      <td>4356</td>\n",
       "      <td>18</td>\n",
       "      <td>0</td>\n",
       "      <td>0</td>\n",
       "      <td>0</td>\n",
       "      <td>1</td>\n",
       "      <td>0</td>\n",
       "      <td>...</td>\n",
       "      <td>0</td>\n",
       "      <td>0</td>\n",
       "      <td>0</td>\n",
       "      <td>0</td>\n",
       "      <td>0</td>\n",
       "      <td>1</td>\n",
       "      <td>1</td>\n",
       "      <td>0</td>\n",
       "      <td>0.0</td>\n",
       "      <td>4356.0</td>\n",
       "    </tr>\n",
       "    <tr>\n",
       "      <th>2</th>\n",
       "      <td>66</td>\n",
       "      <td>186061</td>\n",
       "      <td>0</td>\n",
       "      <td>4356</td>\n",
       "      <td>40</td>\n",
       "      <td>0</td>\n",
       "      <td>0</td>\n",
       "      <td>0</td>\n",
       "      <td>0</td>\n",
       "      <td>0</td>\n",
       "      <td>...</td>\n",
       "      <td>0</td>\n",
       "      <td>0</td>\n",
       "      <td>0</td>\n",
       "      <td>1</td>\n",
       "      <td>0</td>\n",
       "      <td>0</td>\n",
       "      <td>1</td>\n",
       "      <td>0</td>\n",
       "      <td>0.0</td>\n",
       "      <td>4356.0</td>\n",
       "    </tr>\n",
       "    <tr>\n",
       "      <th>3</th>\n",
       "      <td>54</td>\n",
       "      <td>140359</td>\n",
       "      <td>0</td>\n",
       "      <td>3900</td>\n",
       "      <td>40</td>\n",
       "      <td>0</td>\n",
       "      <td>0</td>\n",
       "      <td>0</td>\n",
       "      <td>1</td>\n",
       "      <td>0</td>\n",
       "      <td>...</td>\n",
       "      <td>0</td>\n",
       "      <td>0</td>\n",
       "      <td>0</td>\n",
       "      <td>0</td>\n",
       "      <td>0</td>\n",
       "      <td>1</td>\n",
       "      <td>1</td>\n",
       "      <td>0</td>\n",
       "      <td>0.0</td>\n",
       "      <td>3900.0</td>\n",
       "    </tr>\n",
       "    <tr>\n",
       "      <th>4</th>\n",
       "      <td>41</td>\n",
       "      <td>264663</td>\n",
       "      <td>0</td>\n",
       "      <td>3900</td>\n",
       "      <td>40</td>\n",
       "      <td>0</td>\n",
       "      <td>0</td>\n",
       "      <td>0</td>\n",
       "      <td>1</td>\n",
       "      <td>0</td>\n",
       "      <td>...</td>\n",
       "      <td>0</td>\n",
       "      <td>0</td>\n",
       "      <td>0</td>\n",
       "      <td>0</td>\n",
       "      <td>0</td>\n",
       "      <td>1</td>\n",
       "      <td>1</td>\n",
       "      <td>0</td>\n",
       "      <td>0.0</td>\n",
       "      <td>3900.0</td>\n",
       "    </tr>\n",
       "  </tbody>\n",
       "</table>\n",
       "<p>5 rows × 54 columns</p>\n",
       "</div>"
      ],
      "text/plain": [
       "   age  fnlwgt  capital.gain  capital.loss  hours.per.week  \\\n",
       "0   90   77053             0          4356              40   \n",
       "1   82  132870             0          4356              18   \n",
       "2   66  186061             0          4356              40   \n",
       "3   54  140359             0          3900              40   \n",
       "4   41  264663             0          3900              40   \n",
       "\n",
       "   workclass_Federal-gov  workclass_Local-gov  workclass_Never-worked  \\\n",
       "0                      0                    0                       0   \n",
       "1                      0                    0                       0   \n",
       "2                      0                    0                       0   \n",
       "3                      0                    0                       0   \n",
       "4                      0                    0                       0   \n",
       "\n",
       "   workclass_Private  workclass_Self-emp-inc     ...      relationship_Wife  \\\n",
       "0                  0                       0     ...                      0   \n",
       "1                  1                       0     ...                      0   \n",
       "2                  0                       0     ...                      0   \n",
       "3                  1                       0     ...                      0   \n",
       "4                  1                       0     ...                      0   \n",
       "\n",
       "   race_Amer-Indian-Eskimo  race_Asian-Pac-Islander  race_Black  race_Other  \\\n",
       "0                        0                        0           0           0   \n",
       "1                        0                        0           0           0   \n",
       "2                        0                        0           1           0   \n",
       "3                        0                        0           0           0   \n",
       "4                        0                        0           0           0   \n",
       "\n",
       "   race_White  sex_Female  sex_Male  std_c_gain  std_c_loss  \n",
       "0           1           1         0         0.0      4356.0  \n",
       "1           1           1         0         0.0      4356.0  \n",
       "2           0           1         0         0.0      4356.0  \n",
       "3           1           1         0         0.0      3900.0  \n",
       "4           1           1         0         0.0      3900.0  \n",
       "\n",
       "[5 rows x 54 columns]"
      ]
     },
     "execution_count": 654,
     "metadata": {},
     "output_type": "execute_result"
    }
   ],
   "source": [
    "data['std_c_loss']=c_loss_RobustScaler\n",
    "data.head()"
   ]
  },
  {
   "cell_type": "code",
   "execution_count": null,
   "metadata": {},
   "outputs": [],
   "source": []
  },
  {
   "cell_type": "markdown",
   "metadata": {},
   "source": [
    "## hours.per.week 전처리 --------------------------------------"
   ]
  },
  {
   "cell_type": "code",
   "execution_count": 655,
   "metadata": {},
   "outputs": [
    {
     "data": {
      "text/plain": [
       "40    15204\n",
       "50     2817\n",
       "45     1823\n",
       "60     1475\n",
       "35     1296\n",
       "20     1224\n",
       "30     1148\n",
       "55      693\n",
       "25      674\n",
       "48      516\n",
       "38      476\n",
       "15      404\n",
       "70      291\n",
       "10      275\n",
       "32      266\n",
       "24      252\n",
       "65      244\n",
       "36      220\n",
       "42      219\n",
       "44      212\n",
       "16      205\n",
       "12      173\n",
       "43      151\n",
       "37      149\n",
       "8       145\n",
       "52      138\n",
       "80      133\n",
       "56       97\n",
       "28       86\n",
       "99       85\n",
       "      ...  \n",
       "19       14\n",
       "64       14\n",
       "51       13\n",
       "85       13\n",
       "68       12\n",
       "98       11\n",
       "11       11\n",
       "63       10\n",
       "78        8\n",
       "29        7\n",
       "77        6\n",
       "59        5\n",
       "31        5\n",
       "96        5\n",
       "67        4\n",
       "91        3\n",
       "76        3\n",
       "81        3\n",
       "73        2\n",
       "89        2\n",
       "97        2\n",
       "88        2\n",
       "86        2\n",
       "61        2\n",
       "95        2\n",
       "92        1\n",
       "94        1\n",
       "87        1\n",
       "74        1\n",
       "82        1\n",
       "Name: hours.per.week, Length: 94, dtype: int64"
      ]
     },
     "execution_count": 655,
     "metadata": {},
     "output_type": "execute_result"
    }
   ],
   "source": [
    "new_main['hours.per.week'].value_counts()\n",
    "# 상동"
   ]
  },
  {
   "cell_type": "code",
   "execution_count": 656,
   "metadata": {},
   "outputs": [
    {
     "data": {
      "text/html": [
       "<div>\n",
       "<style>\n",
       "    .dataframe thead tr:only-child th {\n",
       "        text-align: right;\n",
       "    }\n",
       "\n",
       "    .dataframe thead th {\n",
       "        text-align: left;\n",
       "    }\n",
       "\n",
       "    .dataframe tbody tr th {\n",
       "        vertical-align: top;\n",
       "    }\n",
       "</style>\n",
       "<table border=\"1\" class=\"dataframe\">\n",
       "  <thead>\n",
       "    <tr style=\"text-align: right;\">\n",
       "      <th></th>\n",
       "      <th>age</th>\n",
       "      <th>fnlwgt</th>\n",
       "      <th>education.num</th>\n",
       "      <th>capital.gain</th>\n",
       "      <th>capital.loss</th>\n",
       "      <th>hours.per.week</th>\n",
       "      <th>std_c_gain</th>\n",
       "    </tr>\n",
       "  </thead>\n",
       "  <tbody>\n",
       "    <tr>\n",
       "      <th>count</th>\n",
       "      <td>32537.000000</td>\n",
       "      <td>3.253700e+04</td>\n",
       "      <td>32537.000000</td>\n",
       "      <td>32537.000000</td>\n",
       "      <td>32537.000000</td>\n",
       "      <td>32537.000000</td>\n",
       "      <td>32537.000000</td>\n",
       "    </tr>\n",
       "    <tr>\n",
       "      <th>mean</th>\n",
       "      <td>38.585549</td>\n",
       "      <td>1.897808e+05</td>\n",
       "      <td>10.081815</td>\n",
       "      <td>1078.443741</td>\n",
       "      <td>87.368227</td>\n",
       "      <td>40.440329</td>\n",
       "      <td>1078.443741</td>\n",
       "    </tr>\n",
       "    <tr>\n",
       "      <th>std</th>\n",
       "      <td>13.637984</td>\n",
       "      <td>1.055565e+05</td>\n",
       "      <td>2.571633</td>\n",
       "      <td>7387.957424</td>\n",
       "      <td>403.101833</td>\n",
       "      <td>12.346889</td>\n",
       "      <td>7387.957424</td>\n",
       "    </tr>\n",
       "    <tr>\n",
       "      <th>min</th>\n",
       "      <td>17.000000</td>\n",
       "      <td>1.228500e+04</td>\n",
       "      <td>1.000000</td>\n",
       "      <td>0.000000</td>\n",
       "      <td>0.000000</td>\n",
       "      <td>1.000000</td>\n",
       "      <td>0.000000</td>\n",
       "    </tr>\n",
       "    <tr>\n",
       "      <th>25%</th>\n",
       "      <td>28.000000</td>\n",
       "      <td>1.178270e+05</td>\n",
       "      <td>9.000000</td>\n",
       "      <td>0.000000</td>\n",
       "      <td>0.000000</td>\n",
       "      <td>40.000000</td>\n",
       "      <td>0.000000</td>\n",
       "    </tr>\n",
       "    <tr>\n",
       "      <th>50%</th>\n",
       "      <td>37.000000</td>\n",
       "      <td>1.783560e+05</td>\n",
       "      <td>10.000000</td>\n",
       "      <td>0.000000</td>\n",
       "      <td>0.000000</td>\n",
       "      <td>40.000000</td>\n",
       "      <td>0.000000</td>\n",
       "    </tr>\n",
       "    <tr>\n",
       "      <th>75%</th>\n",
       "      <td>48.000000</td>\n",
       "      <td>2.369930e+05</td>\n",
       "      <td>12.000000</td>\n",
       "      <td>0.000000</td>\n",
       "      <td>0.000000</td>\n",
       "      <td>45.000000</td>\n",
       "      <td>0.000000</td>\n",
       "    </tr>\n",
       "    <tr>\n",
       "      <th>max</th>\n",
       "      <td>90.000000</td>\n",
       "      <td>1.484705e+06</td>\n",
       "      <td>16.000000</td>\n",
       "      <td>99999.000000</td>\n",
       "      <td>4356.000000</td>\n",
       "      <td>99.000000</td>\n",
       "      <td>99999.000000</td>\n",
       "    </tr>\n",
       "  </tbody>\n",
       "</table>\n",
       "</div>"
      ],
      "text/plain": [
       "                age        fnlwgt  education.num  capital.gain  capital.loss  \\\n",
       "count  32537.000000  3.253700e+04   32537.000000  32537.000000  32537.000000   \n",
       "mean      38.585549  1.897808e+05      10.081815   1078.443741     87.368227   \n",
       "std       13.637984  1.055565e+05       2.571633   7387.957424    403.101833   \n",
       "min       17.000000  1.228500e+04       1.000000      0.000000      0.000000   \n",
       "25%       28.000000  1.178270e+05       9.000000      0.000000      0.000000   \n",
       "50%       37.000000  1.783560e+05      10.000000      0.000000      0.000000   \n",
       "75%       48.000000  2.369930e+05      12.000000      0.000000      0.000000   \n",
       "max       90.000000  1.484705e+06      16.000000  99999.000000   4356.000000   \n",
       "\n",
       "       hours.per.week    std_c_gain  \n",
       "count    32537.000000  32537.000000  \n",
       "mean        40.440329   1078.443741  \n",
       "std         12.346889   7387.957424  \n",
       "min          1.000000      0.000000  \n",
       "25%         40.000000      0.000000  \n",
       "50%         40.000000      0.000000  \n",
       "75%         45.000000      0.000000  \n",
       "max         99.000000  99999.000000  "
      ]
     },
     "execution_count": 656,
     "metadata": {},
     "output_type": "execute_result"
    }
   ],
   "source": [
    "new_main.describe()\n",
    "# 평균이 40이고 표준편차가 12, 하지만 1Q,3Q가 모두 40~50 사이이므로 영향력이 적을 듯함\n",
    "# capital과 마친가지로 그대로 사용해보고, 모델성능을 올리기 위해서 후처리 해봄"
   ]
  },
  {
   "cell_type": "code",
   "execution_count": 658,
   "metadata": {},
   "outputs": [
    {
     "data": {
      "text/plain": [
       "(array([  733.,  2191.,  2316., 17721.,  5934.,  1057.,  1796.,   448.,\n",
       "          202.,   139.]),\n",
       " array([-7.8 , -5.84, -3.88, -1.92,  0.04,  2.  ,  3.96,  5.92,  7.88,\n",
       "         9.84, 11.8 ]),\n",
       " <a list of 10 Patch objects>)"
      ]
     },
     "execution_count": 658,
     "metadata": {},
     "output_type": "execute_result"
    },
    {
     "data": {
      "image/png": "[encoded data removed]",
      "text/plain": [
       "<matplotlib.figure.Figure at 0x16269acbb00>"
      ]
     },
     "metadata": {},
     "output_type": "display_data"
    }
   ],
   "source": [
    "# 파생변수\n",
    "std_hr_week=new_main['hours.per.week'].values.reshape(-1,1)\n",
    "\n",
    "std_hr_week_RobustScaler = RobustScaler().fit_transform(std_hr_week)\n",
    "plt.hist(std_hr_week_RobustScaler)\n",
    "# 여전히 0과잉을 보임"
   ]
  },
  {
   "cell_type": "code",
   "execution_count": 659,
   "metadata": {},
   "outputs": [],
   "source": [
    "data['std_hr_week']=std_hr_week_RobustScaler"
   ]
  },
  {
   "cell_type": "markdown",
   "metadata": {},
   "source": [
    "## native.country 전처리 ------------------------------------"
   ]
  },
  {
   "cell_type": "code",
   "execution_count": 662,
   "metadata": {},
   "outputs": [
    {
     "data": {
      "text/plain": [
       "United-States                 29153\n",
       "Mexico                          639\n",
       "no-info                         582\n",
       "Philippines                     198\n",
       "Germany                         137\n",
       "Canada                          121\n",
       "Puerto-Rico                     114\n",
       "El-Salvador                     106\n",
       "India                           100\n",
       "Cuba                             95\n",
       "England                          90\n",
       "Jamaica                          81\n",
       "South                            80\n",
       "China                            75\n",
       "Italy                            73\n",
       "Dominican-Republic               70\n",
       "Vietnam                          67\n",
       "Guatemala                        62\n",
       "Japan                            62\n",
       "Poland                           60\n",
       "Columbia                         59\n",
       "Taiwan                           51\n",
       "Haiti                            44\n",
       "Iran                             43\n",
       "Portugal                         37\n",
       "Nicaragua                        34\n",
       "Peru                             31\n",
       "Greece                           29\n",
       "France                           29\n",
       "Ecuador                          28\n",
       "Ireland                          24\n",
       "Hong                             20\n",
       "Trinadad&Tobago                  19\n",
       "Cambodia                         19\n",
       "Thailand                         18\n",
       "Laos                             18\n",
       "Yugoslavia                       16\n",
       "Outlying-US(Guam-USVI-etc)       14\n",
       "Honduras                         13\n",
       "Hungary                          13\n",
       "Scotland                         12\n",
       "Holand-Netherlands                1\n",
       "Name: native.country, dtype: int64"
      ]
     },
     "execution_count": 662,
     "metadata": {},
     "output_type": "execute_result"
    }
   ],
   "source": [
    "new_main['native.country'].value_counts()\n",
    "# 국가별로 특성이 같다고 보기는 힘들지만, 카테고리가 매우 많기 때문에 카테고리 병함\n",
    "# 카테고리를 병합할 근거자료가 없기 때문에, 상식적인 지리구분으로 병합\n",
    "# south는 예측 불가하므로 no-info에 포함"
   ]
  },
  {
   "cell_type": "code",
   "execution_count": 663,
   "metadata": {},
   "outputs": [
    {
     "data": {
      "text/plain": [
       "(32537, 18)"
      ]
     },
     "execution_count": 663,
     "metadata": {},
     "output_type": "execute_result"
    }
   ],
   "source": [
    "new_main.shape"
   ]
  },
  {
   "cell_type": "code",
   "execution_count": 664,
   "metadata": {},
   "outputs": [
    {
     "data": {
      "text/plain": [
       "1626.85"
      ]
     },
     "execution_count": 664,
     "metadata": {},
     "output_type": "execute_result"
    }
   ],
   "source": [
    "32537/20\n",
    "#미국을 제외한 다른 국가들은 모두 5% 미만(>1626)이기 때문에 모두 병합한다"
   ]
  },
  {
   "cell_type": "code",
   "execution_count": 665,
   "metadata": {},
   "outputs": [],
   "source": [
    "native_nation={'United-States':'US-canada','Canada':'US-canada','Outlying-US(Guam-USVI-etc)':'US-canada'\n",
    "                ,'no-info':'no-info','Mexico':'Latin-america','Puerto-Rico':'Latin-america',\n",
    "               'El-Salvador':'Latin-america','Philippines':'Asia_pac','Germany':'Europe',\n",
    "               'India':'Asia_pac','Cuba':'Latin-america','England':'Europe','Jamaica':'Latin-america',\n",
    "               'South':'no-info','China':'Asia_pac','Italy':'Europe','Dominican-Republic':'Latin-america',\n",
    "               'Vietnam':'Asia_pac','Guatemala':'Latin-america','Japan':'Asia_pac',\n",
    "               'Poland':'Europe','Columbia':'Latin-america','Taiwan':'Asia_pac',\n",
    "               'Haiti':'Latin-america','Iran':'Asia_pac','Portugal':'Europe',\n",
    "               'Nicaragua':'Latin-america','Peru':'Latin-america','Greece':'Europe',\n",
    "               'France':'Europe','Ecuador':'Latin-america','Ireland':'Europe','Hong':'Asia_pac',\n",
    "               'Cambodia':'Asia_pac','Trinadad&Tobago':'Latin-america','Laos':'Asia_pac',\n",
    "               'Thailand':'Asia_pac','Yugoslavia':'Europe','Hungary':'Europe','Scotland':'Europe',\n",
    "               'Honduras':'Latin-america','Holand-Netherlands':'Europe'\n",
    "              }\n",
    "# 북미(US-cadada), 중남미(Latin-america),아시아태평양(Asia-Pac),유럽(Europe)으로 구분"
   ]
  },
  {
   "cell_type": "code",
   "execution_count": 666,
   "metadata": {},
   "outputs": [
    {
     "data": {
      "text/plain": [
       "{'Cambodia': 'Asia_pac',\n",
       " 'Canada': 'US-canada',\n",
       " 'China': 'Asia_pac',\n",
       " 'Columbia': 'Latin-america',\n",
       " 'Cuba': 'Latin-america',\n",
       " 'Dominican-Republic': 'Latin-america',\n",
       " 'Ecuador': 'Latin-america',\n",
       " 'El-Salvador': 'Latin-america',\n",
       " 'England': 'Europe',\n",
       " 'France': 'Europe',\n",
       " 'Germany': 'Europe',\n",
       " 'Greece': 'Europe',\n",
       " 'Guatemala': 'Latin-america',\n",
       " 'Haiti': 'Latin-america',\n",
       " 'Holand-Netherlands': 'Europe',\n",
       " 'Honduras': 'Latin-america',\n",
       " 'Hong': 'Asia_pac',\n",
       " 'Hungary': 'Europe',\n",
       " 'India': 'Asia_pac',\n",
       " 'Iran': 'Asia_pac',\n",
       " 'Ireland': 'Europe',\n",
       " 'Italy': 'Europe',\n",
       " 'Jamaica': 'Latin-america',\n",
       " 'Japan': 'Asia_pac',\n",
       " 'Laos': 'Asia_pac',\n",
       " 'Mexico': 'Latin-america',\n",
       " 'Nicaragua': 'Latin-america',\n",
       " 'Outlying-US(Guam-USVI-etc)': 'US-canada',\n",
       " 'Peru': 'Latin-america',\n",
       " 'Philippines': 'Asia_pac',\n",
       " 'Poland': 'Europe',\n",
       " 'Portugal': 'Europe',\n",
       " 'Puerto-Rico': 'Latin-america',\n",
       " 'Scotland': 'Europe',\n",
       " 'South': 'no-info',\n",
       " 'Taiwan': 'Asia_pac',\n",
       " 'Thailand': 'Asia_pac',\n",
       " 'Trinadad&Tobago': 'Latin-america',\n",
       " 'United-States': 'US-canada',\n",
       " 'Vietnam': 'Asia_pac',\n",
       " 'Yugoslavia': 'Europe',\n",
       " 'no-info': 'no-info'}"
      ]
     },
     "execution_count": 666,
     "metadata": {},
     "output_type": "execute_result"
    }
   ],
   "source": [
    "native_nation"
   ]
  },
  {
   "cell_type": "code",
   "execution_count": 670,
   "metadata": {},
   "outputs": [],
   "source": [
    "new_main['native_nations']=new_main['native.country'].apply(lambda x: native_nation[x])"
   ]
  },
  {
   "cell_type": "code",
   "execution_count": 671,
   "metadata": {},
   "outputs": [
    {
     "data": {
      "text/plain": [
       "US-canada        29288\n",
       "Latin-america     1395\n",
       "Asia_pac           671\n",
       "no-info            662\n",
       "Europe             521\n",
       "Name: native_nations, dtype: int64"
      ]
     },
     "execution_count": 671,
     "metadata": {},
     "output_type": "execute_result"
    }
   ],
   "source": [
    "new_main['native_nations'].value_counts() \n",
    "# 다섯개로 잘 나뉘어짐"
   ]
  },
  {
   "cell_type": "code",
   "execution_count": 673,
   "metadata": {},
   "outputs": [],
   "source": [
    "df2=pd.get_dummies(new_main['native_nations'], prefix='native_nations')\n",
    "data=pd.concat([data,df2],axis=1)"
   ]
  },
  {
   "cell_type": "code",
   "execution_count": 1026,
   "metadata": {},
   "outputs": [],
   "source": [
    "data['income']=np.where(new_main['income']=='<=50K',0,1)"
   ]
  },
  {
   "cell_type": "code",
   "execution_count": 1027,
   "metadata": {},
   "outputs": [
    {
     "data": {
      "text/plain": [
       "0    24698\n",
       "1     7839\n",
       "Name: income, dtype: int64"
      ]
     },
     "execution_count": 1027,
     "metadata": {},
     "output_type": "execute_result"
    }
   ],
   "source": [
    "data['income'].value_counts()"
   ]
  },
  {
   "cell_type": "code",
   "execution_count": 1028,
   "metadata": {},
   "outputs": [
    {
     "name": "stdout",
     "output_type": "stream",
     "text": [
      "<class 'pandas.core.frame.DataFrame'>\n",
      "Int64Index: 32537 entries, 0 to 32560\n",
      "Data columns (total 61 columns):\n",
      "age                             32537 non-null int64\n",
      "fnlwgt                          32537 non-null int64\n",
      "capital.gain                    32537 non-null int64\n",
      "capital.loss                    32537 non-null int64\n",
      "hours.per.week                  32537 non-null int64\n",
      "workclass_Federal-gov           32537 non-null uint8\n",
      "workclass_Local-gov             32537 non-null uint8\n",
      "workclass_Never-worked          32537 non-null uint8\n",
      "workclass_Private               32537 non-null uint8\n",
      "workclass_Self-emp-inc          32537 non-null uint8\n",
      "workclass_Self-emp-not-inc      32537 non-null uint8\n",
      "workclass_State-gov             32537 non-null uint8\n",
      "workclass_Without-pay           32537 non-null uint8\n",
      "workclass_no-info               32537 non-null uint8\n",
      "c_education_Assoc               32537 non-null uint8\n",
      "c_education_Bachelors           32537 non-null uint8\n",
      "c_education_College             32537 non-null uint8\n",
      "c_education_Doctorate           32537 non-null uint8\n",
      "c_education_High-School         32537 non-null uint8\n",
      "c_education_Masters             32537 non-null uint8\n",
      "c_education_UnderHS             32537 non-null uint8\n",
      "c_marry_Married                 32537 non-null uint8\n",
      "c_marry_Never_Married           32537 non-null uint8\n",
      "c_marry_Single                  32537 non-null uint8\n",
      "occupation_Adm-clerical         32537 non-null uint8\n",
      "occupation_Armed-Forces         32537 non-null uint8\n",
      "occupation_Craft-repair         32537 non-null uint8\n",
      "occupation_Exec-managerial      32537 non-null uint8\n",
      "occupation_Farming-fishing      32537 non-null uint8\n",
      "occupation_Handlers-cleaners    32537 non-null uint8\n",
      "occupation_Machine-op-inspct    32537 non-null uint8\n",
      "occupation_Other-service        32537 non-null uint8\n",
      "occupation_Priv-house-serv      32537 non-null uint8\n",
      "occupation_Prof-specialty       32537 non-null uint8\n",
      "occupation_Protective-serv      32537 non-null uint8\n",
      "occupation_Sales                32537 non-null uint8\n",
      "occupation_Tech-support         32537 non-null uint8\n",
      "occupation_Transport-moving     32537 non-null uint8\n",
      "occupation_no-info              32537 non-null uint8\n",
      "relationship_Husband            32537 non-null uint8\n",
      "relationship_Not-in-family      32537 non-null uint8\n",
      "relationship_Other-relative     32537 non-null uint8\n",
      "relationship_Own-child          32537 non-null uint8\n",
      "relationship_Unmarried          32537 non-null uint8\n",
      "relationship_Wife               32537 non-null uint8\n",
      "race_Amer-Indian-Eskimo         32537 non-null uint8\n",
      "race_Asian-Pac-Islander         32537 non-null uint8\n",
      "race_Black                      32537 non-null uint8\n",
      "race_Other                      32537 non-null uint8\n",
      "race_White                      32537 non-null uint8\n",
      "sex_Female                      32537 non-null uint8\n",
      "sex_Male                        32537 non-null uint8\n",
      "std_c_gain                      32537 non-null float64\n",
      "std_c_loss                      32537 non-null float64\n",
      "std_hr_week                     32537 non-null float64\n",
      "native_nations_Asia_pac         32537 non-null uint8\n",
      "native_nations_Europe           32537 non-null uint8\n",
      "native_nations_Latin-america    32537 non-null uint8\n",
      "native_nations_US-canada        32537 non-null uint8\n",
      "native_nations_no-info          32537 non-null uint8\n",
      "income                          32537 non-null int32\n",
      "dtypes: float64(3), int32(1), int64(5), uint8(52)\n",
      "memory usage: 5.2 MB\n"
     ]
    },
    {
     "data": {
      "text/plain": [
       "(32537, 61)"
      ]
     },
     "execution_count": 1028,
     "metadata": {},
     "output_type": "execute_result"
    }
   ],
   "source": [
    "data.info()\n",
    "data.shape"
   ]
  },
  {
   "cell_type": "code",
   "execution_count": 997,
   "metadata": {},
   "outputs": [
    {
     "data": {
      "text/html": [
       "<div>\n",
       "<style>\n",
       "    .dataframe thead tr:only-child th {\n",
       "        text-align: right;\n",
       "    }\n",
       "\n",
       "    .dataframe thead th {\n",
       "        text-align: left;\n",
       "    }\n",
       "\n",
       "    .dataframe tbody tr th {\n",
       "        vertical-align: top;\n",
       "    }\n",
       "</style>\n",
       "<table border=\"1\" class=\"dataframe\">\n",
       "  <thead>\n",
       "    <tr style=\"text-align: right;\">\n",
       "      <th></th>\n",
       "      <th>age</th>\n",
       "      <th>fnlwgt</th>\n",
       "      <th>capital.gain</th>\n",
       "      <th>capital.loss</th>\n",
       "      <th>hours.per.week</th>\n",
       "      <th>workclass_Federal-gov</th>\n",
       "      <th>workclass_Local-gov</th>\n",
       "      <th>workclass_Never-worked</th>\n",
       "      <th>workclass_Private</th>\n",
       "      <th>workclass_Self-emp-inc</th>\n",
       "      <th>...</th>\n",
       "      <th>sex_Male</th>\n",
       "      <th>std_c_gain</th>\n",
       "      <th>std_c_loss</th>\n",
       "      <th>std_hr_week</th>\n",
       "      <th>native_nations_Asia_pac</th>\n",
       "      <th>native_nations_Europe</th>\n",
       "      <th>native_nations_Latin-america</th>\n",
       "      <th>native_nations_US-canada</th>\n",
       "      <th>native_nations_no-info</th>\n",
       "      <th>income</th>\n",
       "    </tr>\n",
       "  </thead>\n",
       "  <tbody>\n",
       "    <tr>\n",
       "      <th>0</th>\n",
       "      <td>90</td>\n",
       "      <td>77053</td>\n",
       "      <td>0</td>\n",
       "      <td>4356</td>\n",
       "      <td>40</td>\n",
       "      <td>0</td>\n",
       "      <td>0</td>\n",
       "      <td>0</td>\n",
       "      <td>0</td>\n",
       "      <td>0</td>\n",
       "      <td>...</td>\n",
       "      <td>0</td>\n",
       "      <td>0.0</td>\n",
       "      <td>4356.0</td>\n",
       "      <td>0.0</td>\n",
       "      <td>0</td>\n",
       "      <td>0</td>\n",
       "      <td>0</td>\n",
       "      <td>1</td>\n",
       "      <td>0</td>\n",
       "      <td>0</td>\n",
       "    </tr>\n",
       "    <tr>\n",
       "      <th>1</th>\n",
       "      <td>82</td>\n",
       "      <td>132870</td>\n",
       "      <td>0</td>\n",
       "      <td>4356</td>\n",
       "      <td>18</td>\n",
       "      <td>0</td>\n",
       "      <td>0</td>\n",
       "      <td>0</td>\n",
       "      <td>1</td>\n",
       "      <td>0</td>\n",
       "      <td>...</td>\n",
       "      <td>0</td>\n",
       "      <td>0.0</td>\n",
       "      <td>4356.0</td>\n",
       "      <td>-4.4</td>\n",
       "      <td>0</td>\n",
       "      <td>0</td>\n",
       "      <td>0</td>\n",
       "      <td>1</td>\n",
       "      <td>0</td>\n",
       "      <td>0</td>\n",
       "    </tr>\n",
       "    <tr>\n",
       "      <th>2</th>\n",
       "      <td>66</td>\n",
       "      <td>186061</td>\n",
       "      <td>0</td>\n",
       "      <td>4356</td>\n",
       "      <td>40</td>\n",
       "      <td>0</td>\n",
       "      <td>0</td>\n",
       "      <td>0</td>\n",
       "      <td>0</td>\n",
       "      <td>0</td>\n",
       "      <td>...</td>\n",
       "      <td>0</td>\n",
       "      <td>0.0</td>\n",
       "      <td>4356.0</td>\n",
       "      <td>0.0</td>\n",
       "      <td>0</td>\n",
       "      <td>0</td>\n",
       "      <td>0</td>\n",
       "      <td>1</td>\n",
       "      <td>0</td>\n",
       "      <td>0</td>\n",
       "    </tr>\n",
       "    <tr>\n",
       "      <th>3</th>\n",
       "      <td>54</td>\n",
       "      <td>140359</td>\n",
       "      <td>0</td>\n",
       "      <td>3900</td>\n",
       "      <td>40</td>\n",
       "      <td>0</td>\n",
       "      <td>0</td>\n",
       "      <td>0</td>\n",
       "      <td>1</td>\n",
       "      <td>0</td>\n",
       "      <td>...</td>\n",
       "      <td>0</td>\n",
       "      <td>0.0</td>\n",
       "      <td>3900.0</td>\n",
       "      <td>0.0</td>\n",
       "      <td>0</td>\n",
       "      <td>0</td>\n",
       "      <td>0</td>\n",
       "      <td>1</td>\n",
       "      <td>0</td>\n",
       "      <td>0</td>\n",
       "    </tr>\n",
       "    <tr>\n",
       "      <th>4</th>\n",
       "      <td>41</td>\n",
       "      <td>264663</td>\n",
       "      <td>0</td>\n",
       "      <td>3900</td>\n",
       "      <td>40</td>\n",
       "      <td>0</td>\n",
       "      <td>0</td>\n",
       "      <td>0</td>\n",
       "      <td>1</td>\n",
       "      <td>0</td>\n",
       "      <td>...</td>\n",
       "      <td>0</td>\n",
       "      <td>0.0</td>\n",
       "      <td>3900.0</td>\n",
       "      <td>0.0</td>\n",
       "      <td>0</td>\n",
       "      <td>0</td>\n",
       "      <td>0</td>\n",
       "      <td>1</td>\n",
       "      <td>0</td>\n",
       "      <td>0</td>\n",
       "    </tr>\n",
       "  </tbody>\n",
       "</table>\n",
       "<p>5 rows × 61 columns</p>\n",
       "</div>"
      ],
      "text/plain": [
       "   age  fnlwgt  capital.gain  capital.loss  hours.per.week  \\\n",
       "0   90   77053             0          4356              40   \n",
       "1   82  132870             0          4356              18   \n",
       "2   66  186061             0          4356              40   \n",
       "3   54  140359             0          3900              40   \n",
       "4   41  264663             0          3900              40   \n",
       "\n",
       "   workclass_Federal-gov  workclass_Local-gov  workclass_Never-worked  \\\n",
       "0                      0                    0                       0   \n",
       "1                      0                    0                       0   \n",
       "2                      0                    0                       0   \n",
       "3                      0                    0                       0   \n",
       "4                      0                    0                       0   \n",
       "\n",
       "   workclass_Private  workclass_Self-emp-inc   ...    sex_Male  std_c_gain  \\\n",
       "0                  0                       0   ...           0         0.0   \n",
       "1                  1                       0   ...           0         0.0   \n",
       "2                  0                       0   ...           0         0.0   \n",
       "3                  1                       0   ...           0         0.0   \n",
       "4                  1                       0   ...           0         0.0   \n",
       "\n",
       "   std_c_loss  std_hr_week  native_nations_Asia_pac  native_nations_Europe  \\\n",
       "0      4356.0          0.0                        0                      0   \n",
       "1      4356.0         -4.4                        0                      0   \n",
       "2      4356.0          0.0                        0                      0   \n",
       "3      3900.0          0.0                        0                      0   \n",
       "4      3900.0          0.0                        0                      0   \n",
       "\n",
       "   native_nations_Latin-america  native_nations_US-canada  \\\n",
       "0                             0                         1   \n",
       "1                             0                         1   \n",
       "2                             0                         1   \n",
       "3                             0                         1   \n",
       "4                             0                         1   \n",
       "\n",
       "   native_nations_no-info  income  \n",
       "0                       0       0  \n",
       "1                       0       0  \n",
       "2                       0       0  \n",
       "3                       0       0  \n",
       "4                       0       0  \n",
       "\n",
       "[5 rows x 61 columns]"
      ]
     },
     "execution_count": 997,
     "metadata": {},
     "output_type": "execute_result"
    }
   ],
   "source": [
    "data.head()"
   ]
  },
  {
   "cell_type": "markdown",
   "metadata": {},
   "source": [
    "# 3. 데이터 모델링"
   ]
  },
  {
   "cell_type": "code",
   "execution_count": 764,
   "metadata": {},
   "outputs": [],
   "source": [
    "from sklearn.model_selection import train_test_split"
   ]
  },
  {
   "cell_type": "code",
   "execution_count": 822,
   "metadata": {},
   "outputs": [],
   "source": [
    "train_set,test_set = train_test_split(data,test_size=0.3,random_state=42)"
   ]
  },
  {
   "cell_type": "code",
   "execution_count": 823,
   "metadata": {},
   "outputs": [
    {
     "data": {
      "text/plain": [
       "0    17304\n",
       "1     5471\n",
       "Name: income, dtype: int64"
      ]
     },
     "execution_count": 823,
     "metadata": {},
     "output_type": "execute_result"
    }
   ],
   "source": [
    "train_set['income'].value_counts()"
   ]
  },
  {
   "cell_type": "code",
   "execution_count": 824,
   "metadata": {},
   "outputs": [
    {
     "data": {
      "text/plain": [
       "0    7394\n",
       "1    2368\n",
       "Name: income, dtype: int64"
      ]
     },
     "execution_count": 824,
     "metadata": {},
     "output_type": "execute_result"
    }
   ],
   "source": [
    "test_set['income'].value_counts()"
   ]
  },
  {
   "cell_type": "code",
   "execution_count": 766,
   "metadata": {},
   "outputs": [],
   "source": [
    "from sklearn.ensemble  import RandomForestClassifier"
   ]
  },
  {
   "cell_type": "code",
   "execution_count": 1022,
   "metadata": {},
   "outputs": [],
   "source": [
    "rf=RandomForestClassifier(n_estimators=100,max_leaf_nodes=8,n_jobs=-1,max_depth=2)"
   ]
  },
  {
   "cell_type": "code",
   "execution_count": 1023,
   "metadata": {
    "scrolled": true
   },
   "outputs": [
    {
     "data": {
      "text/plain": [
       "RandomForestClassifier(bootstrap=True, class_weight=None, criterion='gini',\n",
       "            max_depth=2, max_features='auto', max_leaf_nodes=8,\n",
       "            min_impurity_decrease=0.0, min_impurity_split=None,\n",
       "            min_samples_leaf=1, min_samples_split=2,\n",
       "            min_weight_fraction_leaf=0.0, n_estimators=100, n_jobs=-1,\n",
       "            oob_score=False, random_state=None, verbose=0,\n",
       "            warm_start=False)"
      ]
     },
     "execution_count": 1023,
     "metadata": {},
     "output_type": "execute_result"
    }
   ],
   "source": [
    "rf.fit(train_set,train_set['income'])"
   ]
  },
  {
   "cell_type": "code",
   "execution_count": 1024,
   "metadata": {},
   "outputs": [
    {
     "data": {
      "text/plain": [
       "0.9595369801270232"
      ]
     },
     "execution_count": 1024,
     "metadata": {},
     "output_type": "execute_result"
    }
   ],
   "source": [
    "rf.score(test_set,test_set['income'])"
   ]
  },
  {
   "cell_type": "code",
   "execution_count": null,
   "metadata": {},
   "outputs": [],
   "source": []
  },
  {
   "cell_type": "code",
   "execution_count": null,
   "metadata": {},
   "outputs": [],
   "source": []
  },
  {
   "cell_type": "markdown",
   "metadata": {},
   "source": [
    "##  과적합(overfitting) 가능성이 매우 크기 때문에 cv 시도"
   ]
  },
  {
   "cell_type": "code",
   "execution_count": null,
   "metadata": {},
   "outputs": [],
   "source": []
  },
  {
   "cell_type": "code",
   "execution_count": 975,
   "metadata": {},
   "outputs": [],
   "source": [
    "from sklearn.model_selection import cross_validate\n",
    "from sklearn.metrics import recall_score\n",
    "scoring = ['precision_macro', 'recall_macro']"
   ]
  },
  {
   "cell_type": "code",
   "execution_count": 976,
   "metadata": {},
   "outputs": [],
   "source": [
    "scores = cross_validate(rf, data, data.income, scoring=scoring,  cv=5, return_train_score=False)"
   ]
  },
  {
   "cell_type": "code",
   "execution_count": 977,
   "metadata": {},
   "outputs": [
    {
     "data": {
      "text/plain": [
       "['fit_time', 'score_time', 'test_precision_macro', 'test_recall_macro']"
      ]
     },
     "execution_count": 977,
     "metadata": {},
     "output_type": "execute_result"
    }
   ],
   "source": [
    "sorted(scores.keys())\n",
    "['fit_time', 'score_time', 'test_precision_macro', 'test_recall_macro']"
   ]
  },
  {
   "cell_type": "code",
   "execution_count": 978,
   "metadata": {},
   "outputs": [
    {
     "data": {
      "text/plain": [
       "{'fit_time': array([0.39995575, 0.28523254, 0.41289449, 0.39994168, 0.42086673]),\n",
       " 'score_time': array([0.2194221 , 0.33810472, 0.23939896, 0.21939945, 0.22343898]),\n",
       " 'test_precision_macro': array([0.91213695, 0.98650778, 0.98110635, 0.98007387, 0.97979405]),\n",
       " 'test_recall_macro': array([0.94142206, 0.95631378, 0.93813776, 0.9346301 , 0.93363114])}"
      ]
     },
     "execution_count": 978,
     "metadata": {},
     "output_type": "execute_result"
    }
   ],
   "source": [
    "scores"
   ]
  },
  {
   "cell_type": "code",
   "execution_count": 979,
   "metadata": {},
   "outputs": [
    {
     "name": "stdout",
     "output_type": "stream",
     "text": [
      "0.9679238009475386\n",
      "0.9408269679481072\n"
     ]
    }
   ],
   "source": [
    "print(scores['test_precision_macro'].mean())\n",
    "print(scores['test_recall_macro'].mean())\n",
    "# 평균 정확도와 재현율\n",
    "# 이 문제에서는 관계없지만 주제에 따라서 정확도와 재현율 중에 우선순위를 정해야함"
   ]
  },
  {
   "cell_type": "markdown",
   "metadata": {},
   "source": [
    "## 다른모델로 분류하기(LogisticRegression)"
   ]
  },
  {
   "cell_type": "code",
   "execution_count": 980,
   "metadata": {},
   "outputs": [],
   "source": [
    "from sklearn.linear_model import LogisticRegression\n",
    "lr = LogisticRegression()"
   ]
  },
  {
   "cell_type": "code",
   "execution_count": 981,
   "metadata": {},
   "outputs": [],
   "source": [
    "scores = cross_validate(lr, data, data.income, cv=5, return_train_score=False)"
   ]
  },
  {
   "cell_type": "code",
   "execution_count": 982,
   "metadata": {},
   "outputs": [
    {
     "data": {
      "text/plain": [
       "{'fit_time': array([0.17552924, 0.18450618, 0.16953468, 0.26133251, 0.1785059 ]),\n",
       " 'score_time': array([0.00299239, 0.00301814, 0.00296712, 0.00399899, 0.003968  ]),\n",
       " 'test_score': array([0.72510756, 0.83758451, 0.75906577, 0.75887506, 0.7591454 ])}"
      ]
     },
     "execution_count": 982,
     "metadata": {},
     "output_type": "execute_result"
    }
   ],
   "source": [
    "scores"
   ]
  },
  {
   "cell_type": "code",
   "execution_count": 926,
   "metadata": {},
   "outputs": [
    {
     "name": "stdout",
     "output_type": "stream",
     "text": [
      "0.7679556596762789\n"
     ]
    }
   ],
   "source": [
    "print(scores['test_score'].mean())\n",
    "# 평균 정확도"
   ]
  },
  {
   "cell_type": "code",
   "execution_count": null,
   "metadata": {},
   "outputs": [],
   "source": []
  },
  {
   "cell_type": "code",
   "execution_count": null,
   "metadata": {},
   "outputs": [],
   "source": []
  },
  {
   "cell_type": "markdown",
   "metadata": {},
   "source": [
    "## 다른모델로 분류하기(SVM)"
   ]
  },
  {
   "cell_type": "code",
   "execution_count": 1046,
   "metadata": {},
   "outputs": [],
   "source": [
    "from sklearn.svm import LinearSVC\n",
    "from sklearn.svm import SVC\n",
    "from sklearn.model_selection import cross_val_score"
   ]
  },
  {
   "cell_type": "code",
   "execution_count": 1047,
   "metadata": {},
   "outputs": [],
   "source": [
    "clf = LinearSVC(C=1,loss='hinge')  # 선형 분류\n",
    "clf2=SVC(kernel=\"poly\",degree=3,coef0=1,C=5)  #다항식 커널"
   ]
  },
  {
   "cell_type": "code",
   "execution_count": 1048,
   "metadata": {},
   "outputs": [],
   "source": [
    "from sklearn import metrics\n",
    "scores = cross_val_score( clf, data, data.income, cv=5)"
   ]
  },
  {
   "cell_type": "code",
   "execution_count": 1049,
   "metadata": {},
   "outputs": [
    {
     "data": {
      "text/plain": [
       "array([0.74308543, 0.76075599, 0.75906577, 0.75902874, 0.7591454 ])"
      ]
     },
     "execution_count": 1049,
     "metadata": {},
     "output_type": "execute_result"
    }
   ],
   "source": [
    "scores\n",
    "# sampling에 따라서 성능에 많은 차이가 나며, 예측율이 낮음"
   ]
  },
  {
   "cell_type": "code",
   "execution_count": 1050,
   "metadata": {},
   "outputs": [
    {
     "name": "stdout",
     "output_type": "stream",
     "text": [
      "0.7562162667346886\n"
     ]
    }
   ],
   "source": [
    "print(scores.mean())"
   ]
  },
  {
   "cell_type": "code",
   "execution_count": 1053,
   "metadata": {},
   "outputs": [],
   "source": [
    "scores = cross_val_score( clf, data, data.income, cv=10) # 10번 교차검증"
   ]
  },
  {
   "cell_type": "code",
   "execution_count": 1054,
   "metadata": {},
   "outputs": [
    {
     "name": "stdout",
     "output_type": "stream",
     "text": [
      "0.6035733694494306\n"
     ]
    }
   ],
   "source": [
    "print(scores.mean())"
   ]
  },
  {
   "cell_type": "markdown",
   "metadata": {},
   "source": [
    "### 평균성능은 RF,LogisticRegression,SVM 순으로 RF가 가장 좋음"
   ]
  },
  {
   "cell_type": "markdown",
   "metadata": {},
   "source": [
    "### 하지만 RF,Adam,XGboost 등 트리구조는 과적합일 가능성이 큼"
   ]
  },
  {
   "cell_type": "markdown",
   "metadata": {},
   "source": [
    "#  4.영향력이 높은 컬럼"
   ]
  },
  {
   "cell_type": "code",
   "execution_count": 1,
   "metadata": {},
   "outputs": [],
   "source": [
    "# 파이썬 2와 파이썬 3 지원\n",
    "from __future__ import division, print_function, unicode_literals\n",
    "\n",
    "# 공통\n",
    "import numpy as np\n",
    "import os\n",
    "\n",
    "# 일관된 출력을 위해 유사난수 초기화\n",
    "np.random.seed(42)\n",
    "\n",
    "# 맷플롯립 설정\n",
    "%matplotlib inline\n",
    "import matplotlib\n",
    "import matplotlib.pyplot as plt\n",
    "plt.rcParams['axes.labelsize'] = 14\n",
    "plt.rcParams['xtick.labelsize'] = 12\n",
    "plt.rcParams['ytick.labelsize'] = 12\n",
    "\n",
    "# 한글출력\n",
    "matplotlib.rc('font', family='NanumBarunGothic')\n",
    "matplotlib.rcParams['axes.unicode_minus'] = False\n",
    "\n",
    "# 그림을 저장할 폴드\n",
    "PROJECT_ROOT_DIR = \".\"\n",
    "\n",
    "def image_path(fig_id):\n",
    "    return os.path.join(PROJECT_ROOT_DIR, fig_id)\n",
    "\n",
    "def save_fig(fig_id, tight_layout=True):\n",
    "    if tight_layout:\n",
    "        plt.tight_layout()\n",
    "    plt.savefig(image_path(fig_id) + \".png\", format='png', dpi=300)"
   ]
  },
  {
   "cell_type": "code",
   "execution_count": 2,
   "metadata": {},
   "outputs": [
    {
     "ename": "NameError",
     "evalue": "name 'data' is not defined",
     "output_type": "error",
     "traceback": [
      "\u001b[1;31m---------------------------------------------------------------------------\u001b[0m",
      "\u001b[1;31mNameError\u001b[0m                                 Traceback (most recent call last)",
      "\u001b[1;32m<ipython-input-2-a939c4a77ffe>\u001b[0m in \u001b[0;36m<module>\u001b[1;34m\u001b[0m\n\u001b[0;32m      1\u001b[0m \u001b[1;32mfrom\u001b[0m \u001b[0msklearn\u001b[0m\u001b[1;33m.\u001b[0m\u001b[0mdatasets\u001b[0m \u001b[1;32mimport\u001b[0m \u001b[0mload_iris\u001b[0m\u001b[1;33m\u001b[0m\u001b[0m\n\u001b[0;32m      2\u001b[0m \u001b[1;32mfrom\u001b[0m \u001b[0msklearn\u001b[0m\u001b[1;33m.\u001b[0m\u001b[0mtree\u001b[0m \u001b[1;32mimport\u001b[0m \u001b[0mDecisionTreeClassifier\u001b[0m\u001b[1;33m\u001b[0m\u001b[0m\n\u001b[1;32m----> 3\u001b[1;33m \u001b[0my\u001b[0m \u001b[1;33m=\u001b[0m \u001b[0mdata\u001b[0m\u001b[1;33m[\u001b[0m\u001b[1;34m'income'\u001b[0m\u001b[1;33m]\u001b[0m\u001b[1;33m\u001b[0m\u001b[0m\n\u001b[0m\u001b[0;32m      4\u001b[0m \u001b[1;33m\u001b[0m\u001b[0m\n\u001b[0;32m      5\u001b[0m \u001b[0mdata2\u001b[0m\u001b[1;33m=\u001b[0m\u001b[0mdata\u001b[0m\u001b[1;33m.\u001b[0m\u001b[0mdrop\u001b[0m\u001b[1;33m(\u001b[0m\u001b[1;33m[\u001b[0m\u001b[1;34m'income'\u001b[0m\u001b[1;33m]\u001b[0m\u001b[1;33m,\u001b[0m\u001b[1;36m1\u001b[0m\u001b[1;33m)\u001b[0m\u001b[1;33m\u001b[0m\u001b[0m\n",
      "\u001b[1;31mNameError\u001b[0m: name 'data' is not defined"
     ]
    }
   ],
   "source": [
    "from sklearn.datasets import load_iris\n",
    "from sklearn.tree import DecisionTreeClassifier\n",
    "y = data['income']\n",
    "\n",
    "data2=data.drop(['income'],1)\n",
    "\n",
    "X = data2 # petal length and width\n",
    "tree_clf = DecisionTreeClassifier(max_depth=3, random_state=42)\n",
    "tree_clf.fit(X, y)"
   ]
  },
  {
   "cell_type": "code",
   "execution_count": null,
   "metadata": {},
   "outputs": [],
   "source": [
    "from sklearn.tree import export_graphviz\n",
    "\n",
    "export_graphviz(\n",
    "        tree_clf,\n",
    "        out_file=image_path(\"RF.dot\"),\n",
    "        feature_names=data2.columns.values,\n",
    "        class_names=['udner50','over50'],\n",
    "        rounded=True,\n",
    "        filled=True\n",
    "    )"
   ]
  },
  {
   "cell_type": "code",
   "execution_count": 1040,
   "metadata": {},
   "outputs": [
    {
     "data": {
      "image/svg+xml": [
       "<?xml version=\"1.0\" encoding=\"UTF-8\" standalone=\"no\"?>\r\n",
       "<!DOCTYPE svg PUBLIC \"-//W3C//DTD SVG 1.1//EN\"\r\n",
       " \"http://www.w3.org/Graphics/SVG/1.1/DTD/svg11.dtd\">\r\n",
       "<!-- Generated by graphviz version 2.38.0 (20140413.2041)\r\n",
       " -->\r\n",
       "<!-- Title: Tree Pages: 1 -->\r\n",
       "<svg width=\"1178pt\" height=\"433pt\"\r\n",
       " viewBox=\"0.00 0.00 1178.00 433.00\" xmlns=\"http://www.w3.org/2000/svg\" xmlns:xlink=\"http://www.w3.org/1999/xlink\">\r\n",
       "<g id=\"graph0\" class=\"graph\" transform=\"scale(1 1) rotate(0) translate(4 429)\">\r\n",
       "<title>Tree</title>\r\n",
       "<polygon fill=\"white\" stroke=\"none\" points=\"-4,4 -4,-429 1174,-429 1174,4 -4,4\"/>\r\n",
       "<!-- 0 -->\r\n",
       "<g id=\"node1\" class=\"node\"><title>0</title>\r\n",
       "<path fill=\"#e58139\" fill-opacity=\"0.682353\" stroke=\"black\" d=\"M657.5,-425C657.5,-425 514.5,-425 514.5,-425 508.5,-425 502.5,-419 502.5,-413 502.5,-413 502.5,-354 502.5,-354 502.5,-348 508.5,-342 514.5,-342 514.5,-342 657.5,-342 657.5,-342 663.5,-342 669.5,-348 669.5,-354 669.5,-354 669.5,-413 669.5,-413 669.5,-419 663.5,-425 657.5,-425\"/>\r\n",
       "<text text-anchor=\"middle\" x=\"586\" y=\"-409.8\" font-family=\"Helvetica,sans-Serif\" font-size=\"14.00\">c_marry_Married &lt;= 0.5</text>\r\n",
       "<text text-anchor=\"middle\" x=\"586\" y=\"-394.8\" font-family=\"Helvetica,sans-Serif\" font-size=\"14.00\">gini = 0.366</text>\r\n",
       "<text text-anchor=\"middle\" x=\"586\" y=\"-379.8\" font-family=\"Helvetica,sans-Serif\" font-size=\"14.00\">samples = 32537</text>\r\n",
       "<text text-anchor=\"middle\" x=\"586\" y=\"-364.8\" font-family=\"Helvetica,sans-Serif\" font-size=\"14.00\">value = [24698, 7839]</text>\r\n",
       "<text text-anchor=\"middle\" x=\"586\" y=\"-349.8\" font-family=\"Helvetica,sans-Serif\" font-size=\"14.00\">class = udner50</text>\r\n",
       "</g>\r\n",
       "<!-- 1 -->\r\n",
       "<g id=\"node2\" class=\"node\"><title>1</title>\r\n",
       "<path fill=\"#e58139\" fill-opacity=\"0.929412\" stroke=\"black\" d=\"M540.5,-306C540.5,-306 409.5,-306 409.5,-306 403.5,-306 397.5,-300 397.5,-294 397.5,-294 397.5,-235 397.5,-235 397.5,-229 403.5,-223 409.5,-223 409.5,-223 540.5,-223 540.5,-223 546.5,-223 552.5,-229 552.5,-235 552.5,-235 552.5,-294 552.5,-294 552.5,-300 546.5,-306 540.5,-306\"/>\r\n",
       "<text text-anchor=\"middle\" x=\"475\" y=\"-290.8\" font-family=\"Helvetica,sans-Serif\" font-size=\"14.00\">std_c_gain &lt;= 7139.5</text>\r\n",
       "<text text-anchor=\"middle\" x=\"475\" y=\"-275.8\" font-family=\"Helvetica,sans-Serif\" font-size=\"14.00\">gini = 0.121</text>\r\n",
       "<text text-anchor=\"middle\" x=\"475\" y=\"-260.8\" font-family=\"Helvetica,sans-Serif\" font-size=\"14.00\">samples = 17544</text>\r\n",
       "<text text-anchor=\"middle\" x=\"475\" y=\"-245.8\" font-family=\"Helvetica,sans-Serif\" font-size=\"14.00\">value = [16405, 1139]</text>\r\n",
       "<text text-anchor=\"middle\" x=\"475\" y=\"-230.8\" font-family=\"Helvetica,sans-Serif\" font-size=\"14.00\">class = udner50</text>\r\n",
       "</g>\r\n",
       "<!-- 0&#45;&gt;1 -->\r\n",
       "<g id=\"edge1\" class=\"edge\"><title>0&#45;&gt;1</title>\r\n",
       "<path fill=\"none\" stroke=\"black\" d=\"M547.489,-341.907C538.793,-332.742 529.482,-322.927 520.528,-313.489\"/>\r\n",
       "<polygon fill=\"black\" stroke=\"black\" points=\"522.865,-310.867 513.443,-306.021 517.786,-315.684 522.865,-310.867\"/>\r\n",
       "<text text-anchor=\"middle\" x=\"512.785\" y=\"-327.312\" font-family=\"Helvetica,sans-Serif\" font-size=\"14.00\">True</text>\r\n",
       "</g>\r\n",
       "<!-- 8 -->\r\n",
       "<g id=\"node9\" class=\"node\"><title>8</title>\r\n",
       "<path fill=\"#e58139\" fill-opacity=\"0.192157\" stroke=\"black\" d=\"M764,-306C764,-306 632,-306 632,-306 626,-306 620,-300 620,-294 620,-294 620,-235 620,-235 620,-229 626,-223 632,-223 632,-223 764,-223 764,-223 770,-223 776,-229 776,-235 776,-235 776,-294 776,-294 776,-300 770,-306 764,-306\"/>\r\n",
       "<text text-anchor=\"middle\" x=\"698\" y=\"-290.8\" font-family=\"Helvetica,sans-Serif\" font-size=\"14.00\">capital.gain &lt;= 5095.5</text>\r\n",
       "<text text-anchor=\"middle\" x=\"698\" y=\"-275.8\" font-family=\"Helvetica,sans-Serif\" font-size=\"14.00\">gini = 0.494</text>\r\n",
       "<text text-anchor=\"middle\" x=\"698\" y=\"-260.8\" font-family=\"Helvetica,sans-Serif\" font-size=\"14.00\">samples = 14993</text>\r\n",
       "<text text-anchor=\"middle\" x=\"698\" y=\"-245.8\" font-family=\"Helvetica,sans-Serif\" font-size=\"14.00\">value = [8293, 6700]</text>\r\n",
       "<text text-anchor=\"middle\" x=\"698\" y=\"-230.8\" font-family=\"Helvetica,sans-Serif\" font-size=\"14.00\">class = udner50</text>\r\n",
       "</g>\r\n",
       "<!-- 0&#45;&gt;8 -->\r\n",
       "<g id=\"edge8\" class=\"edge\"><title>0&#45;&gt;8</title>\r\n",
       "<path fill=\"none\" stroke=\"black\" d=\"M624.858,-341.907C633.632,-332.742 643.028,-322.927 652.062,-313.489\"/>\r\n",
       "<polygon fill=\"black\" stroke=\"black\" points=\"654.824,-315.665 659.211,-306.021 649.767,-310.824 654.824,-315.665\"/>\r\n",
       "<text text-anchor=\"middle\" x=\"659.757\" y=\"-327.315\" font-family=\"Helvetica,sans-Serif\" font-size=\"14.00\">False</text>\r\n",
       "</g>\r\n",
       "<!-- 2 -->\r\n",
       "<g id=\"node3\" class=\"node\"><title>2</title>\r\n",
       "<path fill=\"#e58139\" fill-opacity=\"0.949020\" stroke=\"black\" d=\"M304,-187C304,-187 162,-187 162,-187 156,-187 150,-181 150,-175 150,-175 150,-116 150,-116 150,-110 156,-104 162,-104 162,-104 304,-104 304,-104 310,-104 316,-110 316,-116 316,-116 316,-175 316,-175 316,-181 310,-187 304,-187\"/>\r\n",
       "<text text-anchor=\"middle\" x=\"233\" y=\"-171.8\" font-family=\"Helvetica,sans-Serif\" font-size=\"14.00\">hours.per.week &lt;= 44.5</text>\r\n",
       "<text text-anchor=\"middle\" x=\"233\" y=\"-156.8\" font-family=\"Helvetica,sans-Serif\" font-size=\"14.00\">gini = 0.093</text>\r\n",
       "<text text-anchor=\"middle\" x=\"233\" y=\"-141.8\" font-family=\"Helvetica,sans-Serif\" font-size=\"14.00\">samples = 17234</text>\r\n",
       "<text text-anchor=\"middle\" x=\"233\" y=\"-126.8\" font-family=\"Helvetica,sans-Serif\" font-size=\"14.00\">value = [16394, 840]</text>\r\n",
       "<text text-anchor=\"middle\" x=\"233\" y=\"-111.8\" font-family=\"Helvetica,sans-Serif\" font-size=\"14.00\">class = udner50</text>\r\n",
       "</g>\r\n",
       "<!-- 1&#45;&gt;2 -->\r\n",
       "<g id=\"edge2\" class=\"edge\"><title>1&#45;&gt;2</title>\r\n",
       "<path fill=\"none\" stroke=\"black\" d=\"M397.431,-225.998C374.507,-214.915 349.185,-202.672 325.422,-191.184\"/>\r\n",
       "<polygon fill=\"black\" stroke=\"black\" points=\"326.926,-188.023 316.4,-186.821 323.879,-194.325 326.926,-188.023\"/>\r\n",
       "</g>\r\n",
       "<!-- 5 -->\r\n",
       "<g id=\"node6\" class=\"node\"><title>5</title>\r\n",
       "<path fill=\"#399de5\" fill-opacity=\"0.964706\" stroke=\"black\" d=\"M524,-187C524,-187 426,-187 426,-187 420,-187 414,-181 414,-175 414,-175 414,-116 414,-116 414,-110 420,-104 426,-104 426,-104 524,-104 524,-104 530,-104 536,-110 536,-116 536,-116 536,-175 536,-175 536,-181 530,-187 524,-187\"/>\r\n",
       "<text text-anchor=\"middle\" x=\"475\" y=\"-171.8\" font-family=\"Helvetica,sans-Serif\" font-size=\"14.00\">age &lt;= 20.5</text>\r\n",
       "<text text-anchor=\"middle\" x=\"475\" y=\"-156.8\" font-family=\"Helvetica,sans-Serif\" font-size=\"14.00\">gini = 0.068</text>\r\n",
       "<text text-anchor=\"middle\" x=\"475\" y=\"-141.8\" font-family=\"Helvetica,sans-Serif\" font-size=\"14.00\">samples = 310</text>\r\n",
       "<text text-anchor=\"middle\" x=\"475\" y=\"-126.8\" font-family=\"Helvetica,sans-Serif\" font-size=\"14.00\">value = [11, 299]</text>\r\n",
       "<text text-anchor=\"middle\" x=\"475\" y=\"-111.8\" font-family=\"Helvetica,sans-Serif\" font-size=\"14.00\">class = over50</text>\r\n",
       "</g>\r\n",
       "<!-- 1&#45;&gt;5 -->\r\n",
       "<g id=\"edge5\" class=\"edge\"><title>1&#45;&gt;5</title>\r\n",
       "<path fill=\"none\" stroke=\"black\" d=\"M475,-222.907C475,-214.649 475,-205.864 475,-197.302\"/>\r\n",
       "<polygon fill=\"black\" stroke=\"black\" points=\"478.5,-197.021 475,-187.021 471.5,-197.021 478.5,-197.021\"/>\r\n",
       "</g>\r\n",
       "<!-- 3 -->\r\n",
       "<g id=\"node4\" class=\"node\"><title>3</title>\r\n",
       "<path fill=\"#e58139\" fill-opacity=\"0.972549\" stroke=\"black\" d=\"M134,-68C134,-68 12,-68 12,-68 6,-68 0,-62 0,-56 0,-56 0,-12 0,-12 0,-6 6,-0 12,-0 12,-0 134,-0 134,-0 140,-0 146,-6 146,-12 146,-12 146,-56 146,-56 146,-62 140,-68 134,-68\"/>\r\n",
       "<text text-anchor=\"middle\" x=\"73\" y=\"-52.8\" font-family=\"Helvetica,sans-Serif\" font-size=\"14.00\">gini = 0.053</text>\r\n",
       "<text text-anchor=\"middle\" x=\"73\" y=\"-37.8\" font-family=\"Helvetica,sans-Serif\" font-size=\"14.00\">samples = 13905</text>\r\n",
       "<text text-anchor=\"middle\" x=\"73\" y=\"-22.8\" font-family=\"Helvetica,sans-Serif\" font-size=\"14.00\">value = [13527, 378]</text>\r\n",
       "<text text-anchor=\"middle\" x=\"73\" y=\"-7.8\" font-family=\"Helvetica,sans-Serif\" font-size=\"14.00\">class = udner50</text>\r\n",
       "</g>\r\n",
       "<!-- 2&#45;&gt;3 -->\r\n",
       "<g id=\"edge3\" class=\"edge\"><title>2&#45;&gt;3</title>\r\n",
       "<path fill=\"none\" stroke=\"black\" d=\"M173.422,-103.726C159.221,-94.0078 144.101,-83.6597 130.019,-74.0222\"/>\r\n",
       "<polygon fill=\"black\" stroke=\"black\" points=\"131.631,-70.8846 121.402,-68.1252 127.678,-76.6614 131.631,-70.8846\"/>\r\n",
       "</g>\r\n",
       "<!-- 4 -->\r\n",
       "<g id=\"node5\" class=\"node\"><title>4</title>\r\n",
       "<path fill=\"#e58139\" fill-opacity=\"0.839216\" stroke=\"black\" d=\"M290,-68C290,-68 176,-68 176,-68 170,-68 164,-62 164,-56 164,-56 164,-12 164,-12 164,-6 170,-0 176,-0 176,-0 290,-0 290,-0 296,-0 302,-6 302,-12 302,-12 302,-56 302,-56 302,-62 296,-68 290,-68\"/>\r\n",
       "<text text-anchor=\"middle\" x=\"233\" y=\"-52.8\" font-family=\"Helvetica,sans-Serif\" font-size=\"14.00\">gini = 0.239</text>\r\n",
       "<text text-anchor=\"middle\" x=\"233\" y=\"-37.8\" font-family=\"Helvetica,sans-Serif\" font-size=\"14.00\">samples = 3329</text>\r\n",
       "<text text-anchor=\"middle\" x=\"233\" y=\"-22.8\" font-family=\"Helvetica,sans-Serif\" font-size=\"14.00\">value = [2867, 462]</text>\r\n",
       "<text text-anchor=\"middle\" x=\"233\" y=\"-7.8\" font-family=\"Helvetica,sans-Serif\" font-size=\"14.00\">class = udner50</text>\r\n",
       "</g>\r\n",
       "<!-- 2&#45;&gt;4 -->\r\n",
       "<g id=\"edge4\" class=\"edge\"><title>2&#45;&gt;4</title>\r\n",
       "<path fill=\"none\" stroke=\"black\" d=\"M233,-103.726C233,-95.5175 233,-86.8595 233,-78.56\"/>\r\n",
       "<polygon fill=\"black\" stroke=\"black\" points=\"236.5,-78.2996 233,-68.2996 229.5,-78.2996 236.5,-78.2996\"/>\r\n",
       "</g>\r\n",
       "<!-- 6 -->\r\n",
       "<g id=\"node7\" class=\"node\"><title>6</title>\r\n",
       "<path fill=\"#e58139\" stroke=\"black\" d=\"M426,-68C426,-68 332,-68 332,-68 326,-68 320,-62 320,-56 320,-56 320,-12 320,-12 320,-6 326,-0 332,-0 332,-0 426,-0 426,-0 432,-0 438,-6 438,-12 438,-12 438,-56 438,-56 438,-62 432,-68 426,-68\"/>\r\n",
       "<text text-anchor=\"middle\" x=\"379\" y=\"-52.8\" font-family=\"Helvetica,sans-Serif\" font-size=\"14.00\">gini = 0.0</text>\r\n",
       "<text text-anchor=\"middle\" x=\"379\" y=\"-37.8\" font-family=\"Helvetica,sans-Serif\" font-size=\"14.00\">samples = 4</text>\r\n",
       "<text text-anchor=\"middle\" x=\"379\" y=\"-22.8\" font-family=\"Helvetica,sans-Serif\" font-size=\"14.00\">value = [4, 0]</text>\r\n",
       "<text text-anchor=\"middle\" x=\"379\" y=\"-7.8\" font-family=\"Helvetica,sans-Serif\" font-size=\"14.00\">class = udner50</text>\r\n",
       "</g>\r\n",
       "<!-- 5&#45;&gt;6 -->\r\n",
       "<g id=\"edge6\" class=\"edge\"><title>5&#45;&gt;6</title>\r\n",
       "<path fill=\"none\" stroke=\"black\" d=\"M439.253,-103.726C431.337,-94.6966 422.944,-85.1235 415.017,-76.0816\"/>\r\n",
       "<polygon fill=\"black\" stroke=\"black\" points=\"417.418,-73.5117 408.194,-68.2996 412.155,-78.1263 417.418,-73.5117\"/>\r\n",
       "</g>\r\n",
       "<!-- 7 -->\r\n",
       "<g id=\"node8\" class=\"node\"><title>7</title>\r\n",
       "<path fill=\"#399de5\" fill-opacity=\"0.976471\" stroke=\"black\" d=\"M557.5,-68C557.5,-68 468.5,-68 468.5,-68 462.5,-68 456.5,-62 456.5,-56 456.5,-56 456.5,-12 456.5,-12 456.5,-6 462.5,-0 468.5,-0 468.5,-0 557.5,-0 557.5,-0 563.5,-0 569.5,-6 569.5,-12 569.5,-12 569.5,-56 569.5,-56 569.5,-62 563.5,-68 557.5,-68\"/>\r\n",
       "<text text-anchor=\"middle\" x=\"513\" y=\"-52.8\" font-family=\"Helvetica,sans-Serif\" font-size=\"14.00\">gini = 0.045</text>\r\n",
       "<text text-anchor=\"middle\" x=\"513\" y=\"-37.8\" font-family=\"Helvetica,sans-Serif\" font-size=\"14.00\">samples = 306</text>\r\n",
       "<text text-anchor=\"middle\" x=\"513\" y=\"-22.8\" font-family=\"Helvetica,sans-Serif\" font-size=\"14.00\">value = [7, 299]</text>\r\n",
       "<text text-anchor=\"middle\" x=\"513\" y=\"-7.8\" font-family=\"Helvetica,sans-Serif\" font-size=\"14.00\">class = over50</text>\r\n",
       "</g>\r\n",
       "<!-- 5&#45;&gt;7 -->\r\n",
       "<g id=\"edge7\" class=\"edge\"><title>5&#45;&gt;7</title>\r\n",
       "<path fill=\"none\" stroke=\"black\" d=\"M489.15,-103.726C492.062,-95.3351 495.137,-86.4745 498.075,-78.0072\"/>\r\n",
       "<polygon fill=\"black\" stroke=\"black\" points=\"501.472,-78.8944 501.444,-68.2996 494.859,-76.5994 501.472,-78.8944\"/>\r\n",
       "</g>\r\n",
       "<!-- 9 -->\r\n",
       "<g id=\"node10\" class=\"node\"><title>9</title>\r\n",
       "<path fill=\"#e58139\" fill-opacity=\"0.333333\" stroke=\"black\" d=\"M788,-187C788,-187 608,-187 608,-187 602,-187 596,-181 596,-175 596,-175 596,-116 596,-116 596,-110 602,-104 608,-104 608,-104 788,-104 788,-104 794,-104 800,-110 800,-116 800,-116 800,-175 800,-175 800,-181 794,-187 788,-187\"/>\r\n",
       "<text text-anchor=\"middle\" x=\"698\" y=\"-171.8\" font-family=\"Helvetica,sans-Serif\" font-size=\"14.00\">c_education_UnderHS &lt;= 0.5</text>\r\n",
       "<text text-anchor=\"middle\" x=\"698\" y=\"-156.8\" font-family=\"Helvetica,sans-Serif\" font-size=\"14.00\">gini = 0.48</text>\r\n",
       "<text text-anchor=\"middle\" x=\"698\" y=\"-141.8\" font-family=\"Helvetica,sans-Serif\" font-size=\"14.00\">samples = 13783</text>\r\n",
       "<text text-anchor=\"middle\" x=\"698\" y=\"-126.8\" font-family=\"Helvetica,sans-Serif\" font-size=\"14.00\">value = [8279, 5504]</text>\r\n",
       "<text text-anchor=\"middle\" x=\"698\" y=\"-111.8\" font-family=\"Helvetica,sans-Serif\" font-size=\"14.00\">class = udner50</text>\r\n",
       "</g>\r\n",
       "<!-- 8&#45;&gt;9 -->\r\n",
       "<g id=\"edge9\" class=\"edge\"><title>8&#45;&gt;9</title>\r\n",
       "<path fill=\"none\" stroke=\"black\" d=\"M698,-222.907C698,-214.649 698,-205.864 698,-197.302\"/>\r\n",
       "<polygon fill=\"black\" stroke=\"black\" points=\"701.5,-197.021 698,-187.021 694.5,-197.021 701.5,-197.021\"/>\r\n",
       "</g>\r\n",
       "<!-- 12 -->\r\n",
       "<g id=\"node13\" class=\"node\"><title>12</title>\r\n",
       "<path fill=\"#399de5\" fill-opacity=\"0.988235\" stroke=\"black\" d=\"M1022,-187C1022,-187 916,-187 916,-187 910,-187 904,-181 904,-175 904,-175 904,-116 904,-116 904,-110 910,-104 916,-104 916,-104 1022,-104 1022,-104 1028,-104 1034,-110 1034,-116 1034,-116 1034,-175 1034,-175 1034,-181 1028,-187 1022,-187\"/>\r\n",
       "<text text-anchor=\"middle\" x=\"969\" y=\"-171.8\" font-family=\"Helvetica,sans-Serif\" font-size=\"14.00\">age &lt;= 60.5</text>\r\n",
       "<text text-anchor=\"middle\" x=\"969\" y=\"-156.8\" font-family=\"Helvetica,sans-Serif\" font-size=\"14.00\">gini = 0.023</text>\r\n",
       "<text text-anchor=\"middle\" x=\"969\" y=\"-141.8\" font-family=\"Helvetica,sans-Serif\" font-size=\"14.00\">samples = 1210</text>\r\n",
       "<text text-anchor=\"middle\" x=\"969\" y=\"-126.8\" font-family=\"Helvetica,sans-Serif\" font-size=\"14.00\">value = [14, 1196]</text>\r\n",
       "<text text-anchor=\"middle\" x=\"969\" y=\"-111.8\" font-family=\"Helvetica,sans-Serif\" font-size=\"14.00\">class = over50</text>\r\n",
       "</g>\r\n",
       "<!-- 8&#45;&gt;12 -->\r\n",
       "<g id=\"edge12\" class=\"edge\"><title>8&#45;&gt;12</title>\r\n",
       "<path fill=\"none\" stroke=\"black\" d=\"M776.021,-229.816C813.355,-213.697 857.836,-194.493 894.679,-178.587\"/>\r\n",
       "<polygon fill=\"black\" stroke=\"black\" points=\"896.079,-181.795 903.873,-174.618 893.304,-175.368 896.079,-181.795\"/>\r\n",
       "</g>\r\n",
       "<!-- 10 -->\r\n",
       "<g id=\"node11\" class=\"node\"><title>10</title>\r\n",
       "<path fill=\"#e58139\" fill-opacity=\"0.215686\" stroke=\"black\" d=\"M722,-68C722,-68 600,-68 600,-68 594,-68 588,-62 588,-56 588,-56 588,-12 588,-12 588,-6 594,-0 600,-0 600,-0 722,-0 722,-0 728,-0 734,-6 734,-12 734,-12 734,-56 734,-56 734,-62 728,-68 722,-68\"/>\r\n",
       "<text text-anchor=\"middle\" x=\"661\" y=\"-52.8\" font-family=\"Helvetica,sans-Serif\" font-size=\"14.00\">gini = 0.493</text>\r\n",
       "<text text-anchor=\"middle\" x=\"661\" y=\"-37.8\" font-family=\"Helvetica,sans-Serif\" font-size=\"14.00\">samples = 12128</text>\r\n",
       "<text text-anchor=\"middle\" x=\"661\" y=\"-22.8\" font-family=\"Helvetica,sans-Serif\" font-size=\"14.00\">value = [6791, 5337]</text>\r\n",
       "<text text-anchor=\"middle\" x=\"661\" y=\"-7.8\" font-family=\"Helvetica,sans-Serif\" font-size=\"14.00\">class = udner50</text>\r\n",
       "</g>\r\n",
       "<!-- 9&#45;&gt;10 -->\r\n",
       "<g id=\"edge10\" class=\"edge\"><title>9&#45;&gt;10</title>\r\n",
       "<path fill=\"none\" stroke=\"black\" d=\"M684.223,-103.726C681.387,-95.3351 678.393,-86.4745 675.532,-78.0072\"/>\r\n",
       "<polygon fill=\"black\" stroke=\"black\" points=\"678.769,-76.6529 672.252,-68.2996 672.137,-78.8938 678.769,-76.6529\"/>\r\n",
       "</g>\r\n",
       "<!-- 11 -->\r\n",
       "<g id=\"node12\" class=\"node\"><title>11</title>\r\n",
       "<path fill=\"#e58139\" fill-opacity=\"0.886275\" stroke=\"black\" d=\"M878,-68C878,-68 764,-68 764,-68 758,-68 752,-62 752,-56 752,-56 752,-12 752,-12 752,-6 758,-0 764,-0 764,-0 878,-0 878,-0 884,-0 890,-6 890,-12 890,-12 890,-56 890,-56 890,-62 884,-68 878,-68\"/>\r\n",
       "<text text-anchor=\"middle\" x=\"821\" y=\"-52.8\" font-family=\"Helvetica,sans-Serif\" font-size=\"14.00\">gini = 0.181</text>\r\n",
       "<text text-anchor=\"middle\" x=\"821\" y=\"-37.8\" font-family=\"Helvetica,sans-Serif\" font-size=\"14.00\">samples = 1655</text>\r\n",
       "<text text-anchor=\"middle\" x=\"821\" y=\"-22.8\" font-family=\"Helvetica,sans-Serif\" font-size=\"14.00\">value = [1488, 167]</text>\r\n",
       "<text text-anchor=\"middle\" x=\"821\" y=\"-7.8\" font-family=\"Helvetica,sans-Serif\" font-size=\"14.00\">class = udner50</text>\r\n",
       "</g>\r\n",
       "<!-- 9&#45;&gt;11 -->\r\n",
       "<g id=\"edge11\" class=\"edge\"><title>9&#45;&gt;11</title>\r\n",
       "<path fill=\"none\" stroke=\"black\" d=\"M743.801,-103.726C754.353,-94.3318 765.567,-84.349 776.082,-74.9883\"/>\r\n",
       "<polygon fill=\"black\" stroke=\"black\" points=\"778.453,-77.5631 783.595,-68.2996 773.799,-72.3347 778.453,-77.5631\"/>\r\n",
       "</g>\r\n",
       "<!-- 13 -->\r\n",
       "<g id=\"node14\" class=\"node\"><title>13</title>\r\n",
       "<path fill=\"#399de5\" stroke=\"black\" d=\"M1018,-68C1018,-68 920,-68 920,-68 914,-68 908,-62 908,-56 908,-56 908,-12 908,-12 908,-6 914,-0 920,-0 920,-0 1018,-0 1018,-0 1024,-0 1030,-6 1030,-12 1030,-12 1030,-56 1030,-56 1030,-62 1024,-68 1018,-68\"/>\r\n",
       "<text text-anchor=\"middle\" x=\"969\" y=\"-52.8\" font-family=\"Helvetica,sans-Serif\" font-size=\"14.00\">gini = 0.002</text>\r\n",
       "<text text-anchor=\"middle\" x=\"969\" y=\"-37.8\" font-family=\"Helvetica,sans-Serif\" font-size=\"14.00\">samples = 1064</text>\r\n",
       "<text text-anchor=\"middle\" x=\"969\" y=\"-22.8\" font-family=\"Helvetica,sans-Serif\" font-size=\"14.00\">value = [1, 1063]</text>\r\n",
       "<text text-anchor=\"middle\" x=\"969\" y=\"-7.8\" font-family=\"Helvetica,sans-Serif\" font-size=\"14.00\">class = over50</text>\r\n",
       "</g>\r\n",
       "<!-- 12&#45;&gt;13 -->\r\n",
       "<g id=\"edge13\" class=\"edge\"><title>12&#45;&gt;13</title>\r\n",
       "<path fill=\"none\" stroke=\"black\" d=\"M969,-103.726C969,-95.5175 969,-86.8595 969,-78.56\"/>\r\n",
       "<polygon fill=\"black\" stroke=\"black\" points=\"972.5,-78.2996 969,-68.2996 965.5,-78.2996 972.5,-78.2996\"/>\r\n",
       "</g>\r\n",
       "<!-- 14 -->\r\n",
       "<g id=\"node15\" class=\"node\"><title>14</title>\r\n",
       "<path fill=\"#399de5\" fill-opacity=\"0.901961\" stroke=\"black\" d=\"M1158,-68C1158,-68 1060,-68 1060,-68 1054,-68 1048,-62 1048,-56 1048,-56 1048,-12 1048,-12 1048,-6 1054,-0 1060,-0 1060,-0 1158,-0 1158,-0 1164,-0 1170,-6 1170,-12 1170,-12 1170,-56 1170,-56 1170,-62 1164,-68 1158,-68\"/>\r\n",
       "<text text-anchor=\"middle\" x=\"1109\" y=\"-52.8\" font-family=\"Helvetica,sans-Serif\" font-size=\"14.00\">gini = 0.162</text>\r\n",
       "<text text-anchor=\"middle\" x=\"1109\" y=\"-37.8\" font-family=\"Helvetica,sans-Serif\" font-size=\"14.00\">samples = 146</text>\r\n",
       "<text text-anchor=\"middle\" x=\"1109\" y=\"-22.8\" font-family=\"Helvetica,sans-Serif\" font-size=\"14.00\">value = [13, 133]</text>\r\n",
       "<text text-anchor=\"middle\" x=\"1109\" y=\"-7.8\" font-family=\"Helvetica,sans-Serif\" font-size=\"14.00\">class = over50</text>\r\n",
       "</g>\r\n",
       "<!-- 12&#45;&gt;14 -->\r\n",
       "<g id=\"edge14\" class=\"edge\"><title>12&#45;&gt;14</title>\r\n",
       "<path fill=\"none\" stroke=\"black\" d=\"M1021.13,-103.726C1033.26,-94.2406 1046.15,-84.1551 1058.22,-74.7159\"/>\r\n",
       "<polygon fill=\"black\" stroke=\"black\" points=\"1060.7,-77.2173 1066.43,-68.2996 1056.39,-71.7035 1060.7,-77.2173\"/>\r\n",
       "</g>\r\n",
       "</g>\r\n",
       "</svg>\r\n"
      ],
      "text/plain": [
       "<graphviz.files.Source at 0x16269067a58>"
      ]
     },
     "execution_count": 1040,
     "metadata": {},
     "output_type": "execute_result"
    }
   ],
   "source": [
    "import graphviz\n",
    "with open(\"RF.dot\") as f:\n",
    "    dot_graph = f.read()\n",
    "dot = graphviz.Source(dot_graph)\n",
    "dot.format = 'png'\n",
    "dot.render(filename='iris_tree', directory='images/decision_trees', cleanup=True)\n",
    "dot"
   ]
  },
  {
   "cell_type": "markdown",
   "metadata": {},
   "source": [
    "##  간단한 트리구조결과: (오차율이 306/32537)늘어나지만,depth=2 이면 충분함\n",
    "### c_marry_married 라는 결혼여부, 표준화된 소득,raw소득,연령순으로 중요하다"
   ]
  },
  {
   "cell_type": "code",
   "execution_count": null,
   "metadata": {},
   "outputs": [],
   "source": []
  },
  {
   "cell_type": "markdown",
   "metadata": {},
   "source": [
    "#  문제2.  적은 데이터에 준지도학습 방법을 사용하는 것   이외에는 1번과 동일하므로 시간 관계상 생략"
   ]
  },
  {
   "cell_type": "code",
   "execution_count": null,
   "metadata": {},
   "outputs": [],
   "source": []
  }
 ],
 "metadata": {
  "kernelspec": {
   "display_name": "Python 3",
   "language": "python",
   "name": "python3"
  },
  "language_info": {
   "codemirror_mode": {
    "name": "ipython",
    "version": 3
   },
   "file_extension": ".py",
   "mimetype": "text/x-python",
   "name": "python",
   "nbconvert_exporter": "python",
   "pygments_lexer": "ipython3",
   "version": "3.6.6"
  }
 },
 "nbformat": 4,
 "nbformat_minor": 2
}
